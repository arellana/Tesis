{
  "nbformat": 4,
  "nbformat_minor": 0,
  "metadata": {
    "colab": {
      "name": "K-means.ipynb",
      "provenance": [],
      "mount_file_id": "1XrSeJ-5MM0r70oCG-ME9xA4GiwUsfmmS",
      "authorship_tag": "ABX9TyOxQXyWAxPxxPy5tyKQOlCP",
      "include_colab_link": true
    },
    "kernelspec": {
      "name": "python3",
      "display_name": "Python 3"
    },
    "language_info": {
      "name": "python"
    }
  },
  "cells": [
    {
      "cell_type": "markdown",
      "metadata": {
        "id": "view-in-github",
        "colab_type": "text"
      },
      "source": [
        "<a href=\"https://colab.research.google.com/github/arellana/Tesis/blob/main/Clusterizacion/K_means.ipynb\" target=\"_parent\"><img src=\"https://colab.research.google.com/assets/colab-badge.svg\" alt=\"Open In Colab\"/></a>"
      ]
    },
    {
      "cell_type": "code",
      "metadata": {
        "id": "6gCQwSaAJaQV"
      },
      "source": [
        "import numpy as np\n",
        "import pandas as pd\n",
        "import seaborn as sns\n",
        "import matplotlib.pyplot as plt\n",
        "\n",
        "from sklearn.cluster import KMeans\n"
      ],
      "execution_count": null,
      "outputs": []
    },
    {
      "cell_type": "code",
      "metadata": {
        "id": "8REq3bGyI1yn"
      },
      "source": [
        "cargar = '/content/drive/MyDrive/Tesis de Javi/DatosSimu/HU2-N=50-S=10000.txt'#/Iteracion/DU1-it2.txt'\n",
        "dat = np.loadtxt(cargar, delimiter=';')\n"
      ],
      "execution_count": null,
      "outputs": []
    },
    {
      "cell_type": "code",
      "metadata": {
        "id": "KpdTnZKwJj3B"
      },
      "source": [
        "l2 = dat[6]\n",
        "l1 = dat[4]\n",
        "x = np.stack((l2,l1),axis=-1)"
      ],
      "execution_count": null,
      "outputs": []
    },
    {
      "cell_type": "code",
      "metadata": {
        "id": "2o91GhSFlZuv"
      },
      "source": [
        "#sns.kdeplot(ep2,d, fill=True)"
      ],
      "execution_count": null,
      "outputs": []
    },
    {
      "cell_type": "code",
      "metadata": {
        "id": "5IVZ65AuKPtH"
      },
      "source": [
        "#aux = np.stack((d,ep2),axis=-1)\n",
        "#y_pred = KMeans(n_clusters=5).fit_predict(aux)"
      ],
      "execution_count": null,
      "outputs": []
    },
    {
      "cell_type": "code",
      "metadata": {
        "id": "bED7kW_7Lu-t"
      },
      "source": [
        "plt.scatter(d, ep2, c=y_pred)"
      ],
      "execution_count": null,
      "outputs": []
    },
    {
      "cell_type": "code",
      "metadata": {
        "id": "mNQvbMkPsEna"
      },
      "source": [
        "font = {'family': 'serif',\n",
        "        'weight': 'bold',\n",
        "        'size': 16,\n",
        "        'color': '#474863'\n",
        "        }"
      ],
      "execution_count": null,
      "outputs": []
    },
    {
      "cell_type": "code",
      "metadata": {
        "id": "jAQH6NLQsEbL"
      },
      "source": [
        "#En teoria se puede ver con esto el valor de cluster minimos que se necesita para que tenga sentido\n",
        "#viendo en donde se vuelve \"plano\"\n",
        "\n",
        "wcss=[]\n",
        "#n_init: el numero de veces que re asigna los centroides de cada cluster\n",
        "#n_cluster=numero de clusters\n",
        "#max_iter: numero de iteraciones para convergencia.\n",
        "for i in range(1,11):\n",
        "    algoritmo=KMeans(n_clusters=i,init='k-means++',max_iter=300,n_init=10,random_state=0)\n",
        "    algoritmo.fit(x)\n",
        "    wcss.append(algoritmo.inertia_)"
      ],
      "execution_count": null,
      "outputs": []
    },
    {
      "cell_type": "code",
      "metadata": {
        "id": "LzR6B-NssV1y"
      },
      "source": [
        "sns.set(style=\"darkgrid\")\n",
        "size = (16, 10)\n",
        "fig, ax = plt.subplots(figsize=size)\n",
        "\n",
        "sns.lineplot(ax=ax,x=range(1,11),y=wcss,marker=\"o\",color='#990000')\n",
        "\n",
        "plt.title('Analisis de numero de Clusters', fontdict=font)\n",
        "plt.ylabel('WCSS', fontdict=font)\n",
        "plt.xlabel('# de Cluster', fontdict=font)\n",
        "plt.show()"
      ],
      "execution_count": null,
      "outputs": []
    },
    {
      "cell_type": "code",
      "metadata": {
        "id": "R7r1s1c7slsC"
      },
      "source": [
        "kmeans=KMeans(n_clusters=3,init='k-means++',max_iter=300,n_init=10,random_state=0)\n",
        "#fit_predict, para que nos diga a que cluster pertenece cada observacion\n",
        "y_kmeans=kmeans.fit_predict(x)"
      ],
      "execution_count": null,
      "outputs": []
    },
    {
      "cell_type": "code",
      "metadata": {
        "id": "tZndJHf4srpl"
      },
      "source": [
        "#Contruimos un dataframe con las variables de interes\n",
        "df_cluster = pd.DataFrame({'l2':x[:,0],'l1':x[:,1],'cluster':y_kmeans})\n",
        "\n",
        "#Funcion auxiliar para cambiar los resultados de entero a string\n",
        "def change_label(x):\n",
        "    if x==0:\n",
        "        return 'Segmento 1'\n",
        "    elif x==1:\n",
        "        return 'Segmento 2'\n",
        "    elif x==2:\n",
        "        return 'Segmento 3'\n",
        "    \n",
        "#Aplicamos notacion lambda para poder usar la funcion auxiliar a nivel registro en nuestro dataframe\n",
        "df_cluster['cluster'] = df_cluster['cluster'].apply(lambda x: change_label(x))"
      ],
      "execution_count": null,
      "outputs": []
    },
    {
      "cell_type": "code",
      "metadata": {
        "colab": {
          "base_uri": "https://localhost:8080/",
          "height": 445
        },
        "id": "Ad3Yl3Crs1Bg",
        "outputId": "d8a9cef1-fb54-4610-e415-4da2a0b2b79d"
      },
      "source": [
        "sns.set(style=\"white\")\n",
        "\n",
        "#Filtramos nuestro dataframe por segmento\n",
        "Segmento_1 = df_cluster.query(\"cluster == 'Segmento 1'\")\n",
        "Segmento_2 = df_cluster.query(\"cluster == 'Segmento 2'\")\n",
        "Segmento_3 = df_cluster.query(\"cluster == 'Segmento 3'\")\n",
        "\n",
        "# especificamos tamaños\n",
        "f, ax = plt.subplots()\n",
        "#ax.set_aspect(\"equal\")\n",
        "\n",
        "# Creamos cada grafica de contorno\n",
        "ax = sns.kdeplot(x=Segmento_1.l2, y=Segmento_1.l1,\n",
        "                 cmap=\"Reds\", shade=True, shade_lowest=False)\n",
        "ax = sns.kdeplot(x=Segmento_2.l2, y=Segmento_2.l1,\n",
        "                 cmap=\"Blues\", shade=True, shade_lowest=False)\n",
        "ax = sns.kdeplot(x=Segmento_3.l2, y=Segmento_3.l1,\n",
        "                 cmap=\"Greens\", shade=True, shade_lowest=False)\n",
        "\n",
        "\n",
        "ax= sns.scatterplot(kmeans.cluster_centers_[:,0],\n",
        "                    kmeans.cluster_centers_[:,1],marker='o', color='orange',s=200)\n",
        "\n",
        "plt.xlabel('l1' , fontdict=font)\n",
        "plt.ylabel('l2' , fontdict=font)\n",
        "#plt.xlim()\n",
        "\n",
        "#Mostramos la grafica\n",
        "plt.show()\n",
        "#plt.savefig('cluster.png', bbox_inches='tight')"
      ],
      "execution_count": null,
      "outputs": [
        {
          "output_type": "stream",
          "text": [
            "/usr/local/lib/python3.7/dist-packages/seaborn/distributions.py:1676: UserWarning: `shade_lowest` is now deprecated in favor of `thresh`. Setting `thresh=0.05`, but please update your code.\n",
            "  warnings.warn(msg, UserWarning)\n",
            "/usr/local/lib/python3.7/dist-packages/seaborn/distributions.py:1676: UserWarning: `shade_lowest` is now deprecated in favor of `thresh`. Setting `thresh=0.05`, but please update your code.\n",
            "  warnings.warn(msg, UserWarning)\n",
            "/usr/local/lib/python3.7/dist-packages/seaborn/distributions.py:1676: UserWarning: `shade_lowest` is now deprecated in favor of `thresh`. Setting `thresh=0.05`, but please update your code.\n",
            "  warnings.warn(msg, UserWarning)\n",
            "/usr/local/lib/python3.7/dist-packages/seaborn/_decorators.py:43: FutureWarning: Pass the following variables as keyword args: x, y. From version 0.12, the only valid positional argument will be `data`, and passing other arguments without an explicit keyword will result in an error or misinterpretation.\n",
            "  FutureWarning\n"
          ],
          "name": "stderr"
        },
        {
          "output_type": "display_data",
          "data": {
            "image/png": "[encoded data removed]",
            "text/plain": [
              "<Figure size 432x288 with 1 Axes>"
            ]
          },
          "metadata": {
            "tags": []
          }
        }
      ]
    },
    {
      "cell_type": "code",
      "metadata": {
        "colab": {
          "base_uri": "https://localhost:8080/",
          "height": 339
        },
        "id": "rc3jp4Eqxgoy",
        "outputId": "dcedfde2-21c1-4add-b70e-baa46ed71c7b"
      },
      "source": [
        "sns.kdeplot(l2, l1,fill=True)"
      ],
      "execution_count": null,
      "outputs": [
        {
          "output_type": "stream",
          "text": [
            "/usr/local/lib/python3.7/dist-packages/seaborn/_decorators.py:43: FutureWarning: Pass the following variable as a keyword arg: y. From version 0.12, the only valid positional argument will be `data`, and passing other arguments without an explicit keyword will result in an error or misinterpretation.\n",
            "  FutureWarning\n"
          ],
          "name": "stderr"
        },
        {
          "output_type": "execute_result",
          "data": {
            "text/plain": [
              "<matplotlib.axes._subplots.AxesSubplot at 0x7f608cb9e650>"
            ]
          },
          "metadata": {
            "tags": []
          },
          "execution_count": 163
        },
        {
          "output_type": "display_data",
          "data": {
            "image/png": "[encoded data removed]",
            "text/plain": [
              "<Figure size 432x288 with 1 Axes>"
            ]
          },
          "metadata": {
            "tags": []
          }
        }
      ]
    }
  ]
}