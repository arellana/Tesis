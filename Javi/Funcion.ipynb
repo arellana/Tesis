{
 "cells": [
  {
   "cell_type": "code",
   "execution_count": 1,
   "metadata": {
    "id": "TPl8zUROiwcm"
   },
   "outputs": [],
   "source": [
    "import sys\n",
    "#sys.path.insert(0,'/content/drive/MyDrive/Colab Notebooks') #cambiar ruta segun donde este el archivo 'cuentitas.py' - es probable que deba dar permiso a drive desde el panel izquierdo\n",
    "import cuentitas\n",
    "from entornomaximo import entornoMaximo as em\n",
    "from integracion import integracionGauss as ig\n",
    " \n",
    "from numpy import pi, sqrt, sin, cos, exp, log10, array, real, conj\n",
    "import numpy as np\n",
    "import matplotlib\n",
    "from matplotlib import pyplot as plt\n",
    "from scipy import interpolate\n",
    "import seaborn as sns\n",
    "import pandas as pd\n",
    "import glob\n",
    "import theano.tensor as TT\n",
    " \n",
    "import pymc3 as pm\n",
    "#from google.colab import files\n",
    "sns.set() #seaborn como default"
   ]
  },
  {
   "cell_type": "code",
   "execution_count": 2,
   "metadata": {
    "id": "tcrwFuaRy7h6"
   },
   "outputs": [],
   "source": [
    "def S0VV_Fran_completo(k0,thi,phi,th,phs,ep1,ep2,d,s1,l1,s2,l2):\n",
    "    \n",
    "    k1 = k0*(sin(th)*cos(phs)-sin(thi)*cos(phi))\n",
    "    k2 = k0*(sin(th)*sin(phs)-sin(thi)*sin(phi))\n",
    "    \n",
    "    return 4*np.pi*k0**2*cos(th)**2*(abs(cuentitas.a1VVF1(k0,thi,phi,th,phs,ep1,ep2,d))**2*cuentitas.w(s1,l1,k1,k2)+\\\n",
    "            abs(cuentitas.a1VVF2(k0,thi,phi,th,phs,ep1,ep2,d))**2*cuentitas.w(s2,l2,k1,k2)+\\\n",
    "            2*real(cuentitas.a1VVF1(k0,thi,phi,th,phs,ep1,ep2,d)*conj(cuentitas.a1VVF2(k0,thi,phi,th,phs,ep1,ep2,d)))*cuentitas.w_f1f2(s1,l1,s2,l2,k1,k2))"
   ]
  },
  {
   "cell_type": "code",
   "execution_count": 5,
   "metadata": {
    "id": "IvqA_RmUh3NU"
   },
   "outputs": [],
   "source": [
    "def toFit(ep1,ep2,d,s1,l1,s2,l2,angulo):\n",
    "    landa = 0.025\n",
    "    k0 = 2*np.pi/landa\n",
    "    phi = np.pi\n",
    "    \n",
    "    ### s0\n",
    "    phs = phi + np.pi\n",
    "    thi = angulo  #cambiar segun la zona\n",
    "    thi = thi*np.pi/180 #DU2 T008, T061, T021\n",
    "    ths = thi\n",
    "    k1 = k0*(sin(ths)*cos(phs)-sin(thi)*cos(phi))\n",
    "    k2 = k0*(sin(ths)*sin(phs)-sin(thi)*sin(phi))\n",
    " \n",
    "    aux = 4*np.pi*k0**2*cos(ths)**2*(abs(cuentitas.a1VVF1(k0,thi,phi,ths,phs,ep1,ep2,d))**2*cuentitas.w(s1,l1,k1,k2)+\\\n",
    "            abs(cuentitas.a1VVF2(k0,thi,phi,ths,phs,ep1,ep2,d))**2*cuentitas.w(s2,l2,k1,k2)+\\\n",
    "            2*real(cuentitas.a1VVF1(k0,thi,phi,ths,phs,ep1,ep2,d)*conj(cuentitas.a1VVF2(k0,thi,phi,ths,phs,ep1,ep2,d)))*cuentitas.w_f1f2(s1,l1,s2,l2,k1,k2))\n",
    "    s0s = 10*np.log10(aux)\n",
    "    \n",
    "    ### emi\n",
    "    thi = 0.0001*np.pi/180\n",
    "    \n",
    "    ths_ = (X+1)*np.pi/4\n",
    "    phs_ = (Y+1)*np.pi\n",
    "    \n",
    "    ths_1 = np.reshape(ths_, (1,m**2))\n",
    "    phs_1 = np.reshape(phs_, (1,m**2))\n",
    "    \n",
    "    q = (np.sin(ths_1)*S0VV_Fran_completo(k0,thi,phi,ths_1,phs_1,ep1,ep2,d,s1,l1,s2,l2))\n",
    "    aux = Wt*q\n",
    "    I_gauss = (np.pi**2/4)*aux.sum()\n",
    " \n",
    "    emi = 1 - (I_gauss/(4*np.pi))\n",
    " \n",
    "    a = TT.zeros(4)\n",
    "    aa = TT.set_subtensor(a[0], s0s[0])\n",
    "    aaa = TT.set_subtensor(aa[1], s0s[1])\n",
    "    aaaa = TT.set_subtensor(aaa[2], s0s[2])\n",
    "    aaaaa = TT.set_subtensor(aaaa[3], emi)\n",
    " \n",
    "    return aaaaa"
   ]
  },
  {
   "cell_type": "code",
   "execution_count": 3,
   "metadata": {
    "id": "sdDy0r-6PJtv"
   },
   "outputs": [],
   "source": [
    "def medicion(zona):     #angulo - observacion - nombre\n",
    "    if zona == 'VP1':\n",
    "        out = [np.asarray([20.44, 18.79, 17.36]),np.asarray([-6.13, -5.71, -5.66, 0.927]),'VP1']\n",
    "    elif zona == 'VP2':\n",
    "        out = [np.asarray([18.63, 17.19, 11.25]),np.asarray([-6.65, -6.17, -5.93, 0.937]),'VP2']\n",
    "    elif zona == 'HU0':\n",
    "        out = [np.asarray([24.59, 15.76, 20.69]),np.asarray([-4.07, -3.27, -3.59, 0.917]),'HU0']\n",
    "    elif zona == 'HU1':\n",
    "        out = [np.asarray([22.46, 15.33, 15.57]),np.asarray([-3.64, -3.12, -2.90, 0.921]),'HU1']\n",
    "    elif zona == 'HU2':\n",
    "        out = [np.asarray([18.86, 21.10, 12.98]),np.asarray([-4.08, -9.34, -3.55, 0.914]),'HU2']\n",
    "    elif zona == 'DU1':\n",
    "        out = [np.asarray([17.20, 20.10, 12.98]),np.asarray([-9.02, -9.55, -8.09, 0.943]),'DU1']\n",
    "    elif zona == 'DU2':\n",
    "        out = [np.asarray([23.84, 11.21, 12.64]),np.asarray([-11.96, -6.82, -7.99, 0.954]),'DU2']\n",
    "    elif zona == 'DP1':\n",
    "        out = [np.asarray([19.64, 17.76, 14.06]),np.asarray([-7.79, -8.34, -7.44, 0.947]),'DP1']\n",
    "    elif zona == 'DP2':\n",
    "        out = [np.asarray([24.21, 13.78, 16.76]),np.asarray([-11.25, -8.29, -8.62, 0.937]),'DP2']\n",
    "    else:\n",
    "      print('\\n Inputs: VP1, VP2, HU0, HU1, HU2, DU1, DU2, DP1, DP2 \\n')\n",
    "    \n",
    "    return out"
   ]
  },
  {
   "cell_type": "code",
   "execution_count": 7,
   "metadata": {
    "id": "43r1KWBMxgdn"
   },
   "outputs": [],
   "source": [
    "def modelo(sector, samples, sigmas):\n",
    " \n",
    "    landa = 0.025\n",
    "    k0 = 2*np.pi/landa\n",
    "    phi = np.pi\n",
    " \n",
    "    ranges = {}\n",
    "    ranges['ep1'] = 1.4, 8\n",
    "#    ranges['ep2'] = 1.4, 8\n",
    "#    ranges['d'] = 0.001, 0.1\n",
    "    ranges['s1'] = 0.0004, 0.004\n",
    "#    ranges['l1'] = 0.005, 0.03\n",
    "#    ranges['s2'] = 0.0004, 0.004\n",
    "#    ranges['l2'] = 0.005, 0.03\n",
    " \n",
    "    with pm.Model() as model:\n",
    "        ep1 = pm.Uniform('ep1', ranges['ep1'][0], ranges['ep1'][1])\n",
    " #       ep2 = pm.Uniform('ep2', ranges['ep2'][0], ranges['ep2'][1])\n",
    " #       d = pm.Uniform('d', ranges['d'][0], ranges['d'][1])\n",
    "        s1 = pm.Uniform('s1', ranges['s1'][0], ranges['s1'][1])\n",
    " #       l1 = pm.Uniform('l1', ranges['l1'][0], ranges['l1'][1])\n",
    "#        s2 = pm.Uniform('s2', ranges['s2'][0], ranges['s2'][1])\n",
    " #       l2 = pm.Uniform('l2', ranges['l2'][0], ranges['l2'][1])\n",
    " \n",
    "    def f(ep1 = ep1, \n",
    "     #          ep2 = ep2, \n",
    "     #          d = d, \n",
    "               s1 = s1, \n",
    "     #          l1 = l1,\n",
    "     #          s2 = s2, \n",
    "     #          l2 = l2\n",
    "         ):\n",
    "        return toFit(ep1,3,0.05,s1,0.015,0.001,0.015,sector[0])\n",
    " \n",
    "    with model:\n",
    "        function_pm = pm.Deterministic('s0f', f())\n",
    "        observations = pm.Normal( \"obs\",  mu=real(function_pm), sigma=sigmas, observed=sector[1])\n",
    "        trace = pm.sample_smc(samples)  #porque no corre las cadenas en parelelo? Es mas rapido False\n",
    "        #trace = pm.sample_smc(samples, cores=2, parallel=False) #probar con 4 \n",
    "    \n",
    "    return trace"
   ]
  },
  {
   "cell_type": "code",
   "execution_count": 12,
   "metadata": {
    "colab": {
     "base_uri": "https://localhost:8080/"
    },
    "id": "gMdtkUVE7b19",
    "outputId": "5f02e167-0cea-44c3-adae-6a4d6d64e2dc"
   },
   "outputs": [],
   "source": [
    "m = 51\n",
    "X,Y,Wt = ig(m-1)\n",
    "\n",
    "zonaMed = 'HU2'\n",
    "muestras = 50000\n",
    "sigmas = np.asarray([0.1, 0.1, 0.1, 0.01])\n",
    "\n",
    "#traza = modelo(medicion(zonaMed),muestras,sigmas)\n",
    "traza = modelo([np.asarray([10,15,20]),np.asarray([-4.639,-7.020,-10.492,0.985]),'HU2'],muestras,sigmas)\n"
   ]
  },
  {
   "cell_type": "code",
   "execution_count": 8,
   "metadata": {
    "id": "yWGv8yDID7k4"
   },
   "outputs": [
    {
     "ename": "NameError",
     "evalue": "name 'traza' is not defined",
     "output_type": "error",
     "traceback": [
      "\u001b[1;31m---------------------------------------------------------------------------\u001b[0m",
      "\u001b[1;31mNameError\u001b[0m                                 Traceback (most recent call last)",
      "\u001b[1;32m<ipython-input-8-7aed22839723>\u001b[0m in \u001b[0;36m<module>\u001b[1;34m\u001b[0m\n\u001b[1;32m----> 1\u001b[1;33m \u001b[0me1\u001b[0m \u001b[1;33m=\u001b[0m \u001b[0mtraza\u001b[0m\u001b[1;33m[\u001b[0m\u001b[1;34m'ep1'\u001b[0m\u001b[1;33m]\u001b[0m\u001b[1;33m\u001b[0m\u001b[1;33m\u001b[0m\u001b[0m\n\u001b[0m\u001b[0;32m      2\u001b[0m \u001b[1;31m#e2 = traza['ep2']\u001b[0m\u001b[1;33m\u001b[0m\u001b[1;33m\u001b[0m\u001b[1;33m\u001b[0m\u001b[0m\n\u001b[0;32m      3\u001b[0m \u001b[1;31m#d = traza['d']\u001b[0m\u001b[1;33m\u001b[0m\u001b[1;33m\u001b[0m\u001b[1;33m\u001b[0m\u001b[0m\n\u001b[0;32m      4\u001b[0m \u001b[0ms1\u001b[0m \u001b[1;33m=\u001b[0m \u001b[0mtraza\u001b[0m\u001b[1;33m[\u001b[0m\u001b[1;34m's1'\u001b[0m\u001b[1;33m]\u001b[0m\u001b[1;33m\u001b[0m\u001b[1;33m\u001b[0m\u001b[0m\n\u001b[0;32m      5\u001b[0m \u001b[1;31m#l1 = traza['l1']\u001b[0m\u001b[1;33m\u001b[0m\u001b[1;33m\u001b[0m\u001b[1;33m\u001b[0m\u001b[0m\n",
      "\u001b[1;31mNameError\u001b[0m: name 'traza' is not defined"
     ]
    }
   ],
   "source": [
    "e1 = traza['ep1']\n",
    "#e2 = traza['ep2']\n",
    "#d = traza['d']\n",
    "s1 = traza['s1']\n",
    "#l1 = traza['l1']\n",
    "#s2 = traza['s2']\n",
    "#l2 = traza['l2']\n",
    "\n",
    "guardar = [e1,s1]#,e2,d,s1,l1,s2,l2]\n",
    "#ruta = '/content/drive/MyDrive/Tesis de Javi/DatosSimu/'+zonaMed+'-s1l1-s=50k.txt'\n",
    "#ruta = '/content/drive/MyDrive/Tesis de Javi/DatosSimu/Nuevos/'+zonaMed+'-N='+str(n)+'-S='+str(muestras)+'.txt'\n",
    "#f = np.savetxt(zonaMed+'-N='+str(n)+'-S='+str(muestras)+'SSA.txt', guardar, delimiter=';')\n",
    "#f = np.savetxt('prueba-e1s1.txt', guardar, delimiter=';')\n",
    "print('Archivo guardado')\n"
   ]
  },
  {
   "cell_type": "code",
   "execution_count": 110,
   "metadata": {},
   "outputs": [
    {
     "name": "stdout",
     "output_type": "stream",
     "text": [
      "Ploteando...\n"
     ]
    },
    {
     "data": {
      "text/plain": [
       "<seaborn.axisgrid.PairGrid at 0x234dbbdec10>"
      ]
     },
     "execution_count": 110,
     "metadata": {},
     "output_type": "execute_result"
    },
    {
     "data": {
      "image/png": "[encoded data removed]",
      "text/plain": [
       "<Figure size 360x360 with 6 Axes>"
      ]
     },
     "metadata": {},
     "output_type": "display_data"
    }
   ],
   "source": [
    "#Ploteo\n",
    "print('Ploteando...')\n",
    "\n",
    "plotear = np.stack((traza['ep1'], traza['s1'])).T#, traza['d'], traza['s1'], traza['l1'], traza['s2'], traza['l2'])).T \n",
    "dfplotear = pd.DataFrame(plotear, columns = ['ep1','s1'])#,'d','s1','l1','s2','l2'])\n",
    "\n",
    "g = sns.PairGrid(dfplotear)\n",
    "g.fig.suptitle(zonaMed, y=1.01, fontsize = 'xx-large')\n",
    "g.map_upper(sns.histplot)\n",
    "g.map_lower(sns.kdeplot, fill=True)\n",
    "g.map_diag(sns.histplot, kde=True, color='.5')\n",
    "#g.savefig('prueba.png')\n",
    "#files.download('prueba.png') #descarga la imagen"
   ]
  },
  {
   "cell_type": "markdown",
   "metadata": {},
   "source": [
    "---------\n",
    "Prueba sobre cada maximo"
   ]
  },
  {
   "cell_type": "code",
   "execution_count": 13,
   "metadata": {},
   "outputs": [],
   "source": [
    "def prueba(ep1,ep2,d,s1,l1,s2,l2,angulo): #funcion de antes pero sin la parte tensorial\n",
    "    landa = 0.025\n",
    "    k0 = 2*np.pi/landa\n",
    "    phi = np.pi\n",
    "    ### s0\n",
    "    phs = phi + np.pi\n",
    "    thi = angulo  #cambiar segun la zona\n",
    "    thi = thi*np.pi/180 #DU2 T008, T061, T021\n",
    "    ths = thi\n",
    "    k1 = k0*(sin(ths)*cos(phs)-sin(thi)*cos(phi))\n",
    "    k2 = k0*(sin(ths)*sin(phs)-sin(thi)*sin(phi))\n",
    " \n",
    "    aux = 4*np.pi*k0**2*cos(ths)**2*(abs(cuentitas.a1VVF1(k0,thi,phi,ths,phs,ep1,ep2,d))**2*cuentitas.w(s1,l1,k1,k2)+\\\n",
    "            abs(cuentitas.a1VVF2(k0,thi,phi,ths,phs,ep1,ep2,d))**2*cuentitas.w(s2,l2,k1,k2)+\\\n",
    "            2*real(cuentitas.a1VVF1(k0,thi,phi,ths,phs,ep1,ep2,d)*conj(cuentitas.a1VVF2(k0,thi,phi,ths,phs,ep1,ep2,d)))*cuentitas.w_f1f2(s1,l1,s2,l2,k1,k2))\n",
    "    s0s = 10*np.log10(aux)\n",
    "    \n",
    "    ### emi\n",
    "    X,Y,Wt = ig(50)\n",
    "    \n",
    "    thi = 0.0001*np.pi/180\n",
    "    \n",
    "    ths_ = (X+1)*np.pi/4\n",
    "    phs_ = (Y+1)*np.pi\n",
    "    \n",
    "    ths_1 = np.reshape(ths_, (1,m**2))\n",
    "    phs_1 = np.reshape(phs_, (1,m**2))\n",
    "    \n",
    "    q = (np.sin(ths_1)*S0VV_Fran_completo(k0,thi,phi,ths_1,phs_1,ep1,ep2,d,s1,l1,s2,l2))\n",
    "    aux = Wt*q\n",
    "    I_gauss = (np.pi**2/4)*aux.sum()\n",
    " \n",
    "    emi = 1 - (I_gauss/(4*np.pi))\n",
    "\n",
    "    return s0s, emi"
   ]
  },
  {
   "cell_type": "code",
   "execution_count": 38,
   "metadata": {},
   "outputs": [
    {
     "name": "stdout",
     "output_type": "stream",
     "text": [
      "thi =  10 :  (-4.639658114654706, 0.9854867397806576)\n",
      "thi =  15 :  (-7.020294116808399, 0.9854867397806576)\n",
      "thi =  20 :  (-10.492452448846416, 0.9854867397806576)\n"
     ]
    }
   ],
   "source": [
    "#Genero los valores del modelo para estos angulos incidentes\n",
    "angPrueba = [10,15,20]\n",
    "\n",
    "for i in angPrueba:\n",
    "    print('thi = ',i,': ',prueba(1.93,3,0.05,0.0017,0.015,0.001,0.015,i))\n",
    "\n",
    "#esto es lo que devuelve\n",
    "back = [-4.639,-7.020,-10.492]"
   ]
  },
  {
   "cell_type": "code",
   "execution_count": 7,
   "metadata": {},
   "outputs": [],
   "source": [
    "pru = np.loadtxt('prueba-e1s1.txt', delimiter=';') #output del sampler"
   ]
  },
  {
   "cell_type": "code",
   "execution_count": 8,
   "metadata": {},
   "outputs": [
    {
     "data": {
      "image/png": "[encoded data removed]",
      "text/plain": [
       "<Figure size 432x288 with 1 Axes>"
      ]
     },
     "metadata": {},
     "output_type": "display_data"
    },
    {
     "data": {
      "image/png": "[encoded data removed]",
      "text/plain": [
       "<Figure size 432x288 with 1 Axes>"
      ]
     },
     "metadata": {},
     "output_type": "display_data"
    }
   ],
   "source": [
    "y, x, _ = plt.hist(pru[0],bins=40)\n",
    "plt.figure()\n",
    "y2, x2, _2 = plt.hist(pru[1],bins=40)\n",
    "y2 = np.asarray(y2)\n",
    "x2 = np.asarray(x2)"
   ]
  },
  {
   "cell_type": "code",
   "execution_count": 36,
   "metadata": {},
   "outputs": [
    {
     "name": "stdout",
     "output_type": "stream",
     "text": [
      "[0.0004003661684850914, 0.0015933870327917662, 0.0008214323558874472, 0.0008916100537878398]\n",
      "[3.8103828506473536, 5.010116979069004, 1.8108259699446037, 5.809939731350104, 2.4773449301788535, 4.7435093949753036]\n",
      "\n",
      " eps1 =  3.8103828506473536  - s1 =  0.0004003661684850914\n",
      "(-11.68975125587416, 0.996605331381465)\n",
      "(-14.131996961065491, 0.996605331381465)\n",
      "(-17.41114349391433, 0.996605331381465)\n",
      "\n",
      " eps1 =  3.8103828506473536  - s1 =  0.0015933870327917662\n",
      "(-1.568720644678945, 0.9658951697526235)\n",
      "(-4.008483984991635, 0.9658951697526235)\n",
      "(-7.266854220634632, 0.9658951697526235)\n",
      "\n",
      " eps1 =  3.8103828506473536  - s1 =  0.0008214323558874472\n",
      "(-6.907396236715274, 0.9899631209595513)\n",
      "(-9.347806265855676, 0.9899631209595513)\n",
      "(-12.611578292297608, 0.9899631209595513)\n",
      "\n",
      " eps1 =  3.8103828506473536  - s1 =  0.0008916100537878398\n",
      "(-6.277875294667168, 0.9884109845093717)\n",
      "(-8.718161977041898, 0.9884109845093717)\n",
      "(-11.9809031073586, 0.9884109845093717)\n",
      "\n",
      " eps1 =  5.010116979069004  - s1 =  0.0004003661684850914\n",
      "(-5.786568224029175, 0.9874736678065478)\n",
      "(-8.301370194463129, 0.9874736678065478)\n",
      "(-11.779485509707426, 0.9874736678065478)\n",
      "\n",
      " eps1 =  5.010116979069004  - s1 =  0.0015933870327917662\n",
      "(2.486198598841203, 0.9228693044532117)\n",
      "(-0.05547792141965855, 0.9228693044532117)\n",
      "(-3.603786486936324, 0.9228693044532117)\n",
      "\n",
      " eps1 =  5.010116979069004  - s1 =  0.0008214323558874472\n",
      "(-2.2901954969318776, 0.9735005803069487)\n",
      "(-4.822437198913999, 0.9735005803069487)\n",
      "(-8.3459240493543, 0.9735005803069487)\n",
      "\n",
      " eps1 =  5.010116979069004  - s1 =  0.0008916100537878398\n",
      "(-1.7624464592293356, 0.9702353813668304)\n",
      "(-4.296305116499148, 0.9702353813668304)\n",
      "(-7.824032073533327, 0.9702353813668304)\n",
      "\n",
      " eps1 =  1.8108259699446037  - s1 =  0.0004003661684850914\n",
      "(-11.131688223704382, 0.9962143291982674)\n",
      "(-13.615154459356786, 0.9962143291982674)\n",
      "(-16.96946306124103, 0.9962143291982674)\n",
      "\n",
      " eps1 =  1.8108259699446037  - s1 =  0.0015933870327917662\n",
      "(-6.178722362318685, 0.9892394723818398)\n",
      "(-8.989390749875275, 0.9892394723818398)\n",
      "(-12.744122092631088, 0.9892394723818398)\n",
      "\n",
      " eps1 =  1.8108259699446037  - s1 =  0.0008214323558874472\n",
      "(-9.4872514827804, 0.9947057579573423)\n",
      "(-12.119259321106082, 0.9947057579573423)\n",
      "(-15.647074217014064, 0.9947057579573423)\n",
      "\n",
      " eps1 =  1.8108259699446037  - s1 =  0.0008916100537878398\n",
      "(-9.178592052850439, 0.9943532385004146)\n",
      "(-11.833180338370141, 0.9943532385004146)\n",
      "(-15.388525796947006, 0.9943532385004146)\n",
      "\n",
      " eps1 =  5.809939731350104  - s1 =  0.0004003661684850914\n",
      "(-6.26310951724406, 0.9866275180010836)\n",
      "(-8.719374732704637, 0.9866275180010836)\n",
      "(-11.960987997694305, 0.9866275180010836)\n",
      "\n",
      " eps1 =  5.809939731350104  - s1 =  0.0015933870327917662\n",
      "(-1.258422210732534, 0.9557336634063652)\n",
      "(-3.6499757381062645, 0.9557336634063652)\n",
      "(-6.662786657360921, 0.9557336634063652)\n",
      "\n",
      " eps1 =  5.809939731350104  - s1 =  0.0008214323558874472\n",
      "(-4.5946324610422025, 0.9799455771685285)\n",
      "(-7.020603559573184, 0.9799455771685285)\n",
      "(-10.153178095488844, 0.9799455771685285)\n",
      "\n",
      " eps1 =  5.809939731350104  - s1 =  0.0008916100537878398\n",
      "(-4.282401390483848, 0.9783841566073949)\n",
      "(-6.703903930179252, 0.9783841566073949)\n",
      "(-9.82068706625981, 0.9783841566073949)\n",
      "\n",
      " eps1 =  2.4773449301788535  - s1 =  0.0004003661684850914\n",
      "(-15.065883284096797, 0.9984504847904829)\n",
      "(-17.485754381849674, 0.9984504847904829)\n",
      "(-20.71796355366274, 0.9984504847904829)\n",
      "\n",
      " eps1 =  2.4773449301788535  - s1 =  0.0015933870327917662\n",
      "(-4.981289712474401, 0.9845078255757418)\n",
      "(-7.415926189879119, 0.9845078255757418)\n",
      "(-10.64156325184218, 0.9845078255757418)\n",
      "\n",
      " eps1 =  2.4773449301788535  - s1 =  0.0008214323558874472\n",
      "(-10.310441478559948, 0.9954348680879525)\n",
      "(-12.741201792235529, 0.9954348680879525)\n",
      "(-15.968565345254241, 0.9954348680879525)\n",
      "\n",
      " eps1 =  2.4773449301788535  - s1 =  0.0008916100537878398\n",
      "(-9.6827353513602, 0.9947301857146983)\n",
      "(-12.114233366326967, 0.9947301857146983)\n",
      "(-15.341268403949853, 0.9947301857146983)\n",
      "\n",
      " eps1 =  4.7435093949753036  - s1 =  0.0004003661684850914\n",
      "(-8.512790712715626, 0.9924809593430949)\n",
      "(-11.015205046432946, 0.9924809593430949)\n",
      "(-14.327781404922607, 0.9924809593430949)\n",
      "\n",
      " eps1 =  4.7435093949753036  - s1 =  0.0015933870327917662\n",
      "(-1.132396526593506, 0.9592959947838544)\n",
      "(-3.6559843559673704, 0.9592959947838544)\n",
      "(-6.902835078015038, 0.9592959947838544)\n",
      "\n",
      " eps1 =  4.7435093949753036  - s1 =  0.0008214323558874472\n",
      "(-5.574868432758601, 0.9853034810832861)\n",
      "(-8.090007483060544, 0.9853034810832861)\n",
      "(-11.363003680613499, 0.9853034810832861)\n",
      "\n",
      " eps1 =  4.7435093949753036  - s1 =  0.0008916100537878398\n",
      "(-5.102605311863959, 0.983626264476196)\n",
      "(-7.619102522816675, 0.983626264476196)\n",
      "(-10.887888580322267, 0.983626264476196)\n"
     ]
    }
   ],
   "source": [
    "ee = [x[16],x[25],x[1],x[31],x[6],x[23]]\n",
    "ss = [x2[0],x2[17],x2[6],x2[7]] #Anote cuales son los indices en mi libretita\n",
    "print(ss)\n",
    "print(ee)\n",
    "auxx1 = []\n",
    "auxx2 = []\n",
    "auxx3 = []\n",
    "for e in range(len(ee)):\n",
    "    for s in range(len(ss)):\n",
    "        print('\\n eps1 = ', ee[e],' - s1 = ',ss[s])\n",
    "        print(prueba(ee[e],3,0.05,ss[s],0.015,0.001,0.015,10))\n",
    "        print(prueba(ee[e],3,0.05,ss[s],0.015,0.001,0.015,15))\n",
    "        print(prueba(ee[e],3,0.05,ss[s],0.015,0.001,0.015,20))\n",
    "        auxx1.append(prueba(ee[e],3,0.05,ss[s],0.015,0.001,0.015,10))\n",
    "        auxx2.append(prueba(ee[e],3,0.05,ss[s],0.015,0.001,0.015,15))\n",
    "        auxx3.append(prueba(ee[e],3,0.05,ss[s],0.015,0.001,0.015,20))"
   ]
  },
  {
   "cell_type": "code",
   "execution_count": 34,
   "metadata": {},
   "outputs": [],
   "source": [
    "auxx1 = np.asarray(auxx1)\n",
    "auxx2 = np.asarray(auxx2)\n",
    "auxx3 = np.asarray(auxx3)\n"
   ]
  },
  {
   "cell_type": "code",
   "execution_count": 35,
   "metadata": {
    "scrolled": true
   },
   "outputs": [
    {
     "data": {
      "text/plain": [
       "Text(0, 0.5, 'emisividad')"
      ]
     },
     "execution_count": 35,
     "metadata": {},
     "output_type": "execute_result"
    },
    {
     "data": {
      "image/png": "[encoded data removed]",
      "text/plain": [
       "<Figure size 432x288 with 1 Axes>"
      ]
     },
     "metadata": {},
     "output_type": "display_data"
    }
   ],
   "source": [
    "plt.errorbar(auxx1[:,0],auxx1[:,1],yerr=0.01,xerr=0.1,ecolor='r',fmt='o')\n",
    "plt.errorbar(auxx2[:,0],auxx2[:,1],yerr=0.01,xerr=0.1,ecolor='g',fmt='o')\n",
    "plt.errorbar(auxx3[:,0],auxx3[:,1],yerr=0.01,xerr=0.1,ecolor='orange',fmt='o')\n",
    "\n",
    "plt.plot([-4.639658114654706,-7.020294116808399,-10.492452448846416],[0.9854867397806576,0.9854867397806576,0.9854867397806576],'or')\n",
    "plt.xlabel('back')\n",
    "plt.ylabel('emisividad')\n"
   ]
  },
  {
   "cell_type": "markdown",
   "metadata": {},
   "source": [
    "----------"
   ]
  },
  {
   "cell_type": "code",
   "execution_count": null,
   "metadata": {},
   "outputs": [],
   "source": []
  }
 ],
 "metadata": {
  "colab": {
   "collapsed_sections": [
    "IBruLb72spiK"
   ],
   "name": "Funcion.ipynb",
   "provenance": []
  },
  "kernelspec": {
   "display_name": "Python 3",
   "language": "python",
   "name": "python3"
  },
  "language_info": {
   "codemirror_mode": {
    "name": "ipython",
    "version": 3
   },
   "file_extension": ".py",
   "mimetype": "text/x-python",
   "name": "python",
   "nbconvert_exporter": "python",
   "pygments_lexer": "ipython3",
   "version": "3.8.5"
  }
 },
 "nbformat": 4,
 "nbformat_minor": 4
}
