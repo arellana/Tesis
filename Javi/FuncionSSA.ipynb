{
 "cells": [
  {
   "cell_type": "code",
   "execution_count": 1,
   "metadata": {
    "id": "TPl8zUROiwcm"
   },
   "outputs": [],
   "source": [
    "import sys\n",
    "#sys.path.insert(0,'/content/drive/MyDrive/Colab Notebooks') #cambiar ruta segun donde este el archivo 'cuentitas.py' - es probable que deba dar permiso a drive desde el panel izquierdo\n",
    "import cuentitas\n",
    "import entornomaximo\n",
    "from integracion import integracionGauss as ig\n",
    " \n",
    "from numpy import pi, sqrt, sin, cos, exp, log10, array, real, conj\n",
    "import numpy as np\n",
    "import matplotlib\n",
    "from matplotlib import pyplot as plt\n",
    "from scipy import interpolate\n",
    "import seaborn as sns\n",
    "import pandas as pd\n",
    "import glob\n",
    "import theano.tensor as TT\n",
    " \n",
    "import pymc3 as pm\n",
    "#from google.colab import files\n",
    "sns.set() #seaborn como default"
   ]
  },
  {
   "cell_type": "code",
   "execution_count": 2,
   "metadata": {
    "id": "VmFTquNor7JW"
   },
   "outputs": [],
   "source": [
    "#modelo SSA\n",
    "\n",
    "# Amplitudes orden uno con una sola interface\n",
    "#from ssa_enero_2021 import X1\n",
    "\n",
    "# Amplitudes orden uno sup rugosa superior\n",
    "#from ssa_enero_2021 import X1_u # u es upper\n",
    "\n",
    "# Amplitudes orden uno sup rugosa inferior\n",
    "#from ssa_enero_2021 import X1_b # b es bottom\n",
    "\n",
    "#from ssa_enero_2021 import kx, ky, W\n",
    "\n",
    "# TODAS LAS X1 son matrices:\n",
    "# X1_algo[0,0] = VV\n",
    "\n",
    "m = 51\n",
    "X,Y,Wt = ig(m-1)\n"
   ]
  },
  {
   "cell_type": "code",
   "execution_count": 3,
   "metadata": {
    "id": "tcrwFuaRy7h6"
   },
   "outputs": [],
   "source": [
    "def S0VV_Fran_completo(k0,thi,phi,th,phs,ep1,ep2,d,s1,l1,s2,l2):\n",
    "    \n",
    "    k1 = k0*(sin(th)*cos(phs)-sin(thi)*cos(phi))\n",
    "    k2 = k0*(sin(th)*sin(phs)-sin(thi)*sin(phi))\n",
    "    \n",
    "    return 4*np.pi*k0**2*cos(th)**2*(abs(cuentitas.a1VVF1(k0,thi,phi,th,phs,ep1,ep2,d))**2*cuentitas.w(s1,l1,k1,k2)+\\\n",
    "            abs(cuentitas.a1VVF2(k0,thi,phi,th,phs,ep1,ep2,d))**2*cuentitas.w(s2,l2,k1,k2)+\\\n",
    "            2*real(cuentitas.a1VVF1(k0,thi,phi,th,phs,ep1,ep2,d)*conj(cuentitas.a1VVF2(k0,thi,phi,th,phs,ep1,ep2,d)))*cuentitas.w_f1f2(s1,l1,s2,l2,k1,k2))"
   ]
  },
  {
   "cell_type": "code",
   "execution_count": 3,
   "metadata": {},
   "outputs": [],
   "source": [
    "def sigma_vvSSA(ki,thi,phi,th,phs,ep0,ep1,ep2,d,s1,l1,s2,l2):\n",
    "    \n",
    "    k1 = ki*(sin(th)*cos(phs)-sin(thi)*cos(phi))   \n",
    "    k2 = ki*(sin(th)*sin(phs)-sin(thi)*sin(phi))\n",
    "    \n",
    "    ksx = kx(ki,th,phs)\n",
    "    ksy = ky(ki,th,phs)\n",
    "    \n",
    "    kix = kx(ki,thi,phi)\n",
    "    kiy = ky(ki,thi,phi)\n",
    "    \n",
    "    return ki**4*np.cos(th)**2*np.cos(thi)/(2*np.pi)**2*(\n",
    "        np.abs(X1_u(ksx,ksy,kix,kiy,ki,ep0,ep1,ep2,d)[0,0])**2*W(ksx-kix,ksy-kiy,s1,l1)+\\\n",
    "        np.abs(X1_b(ksx,ksy,kix,kiy,ki,ep0,ep1,ep2,d)[0,0])**2*W(ksx-kix,ksy-kiy,s2,l2))"
   ]
  },
  {
   "cell_type": "code",
   "execution_count": 4,
   "metadata": {
    "id": "3cAgYqPTh7xN"
   },
   "outputs": [],
   "source": [
    "def toFitSSA(ep0,ep1,ep2,d,s1,l1,s2,l2,angulo):\n",
    "    landa = 0.025\n",
    "    ki = 2*np.pi/landa\n",
    "    phi = np.pi\n",
    "    \n",
    "    ### s0\n",
    "    phs = phi + np.pi\n",
    "    thi = angulo  #cambiar segun la zona\n",
    "    thi = thi*np.pi/180 #T008, T061, T021\n",
    "    ths = thi\n",
    "    \n",
    "    ksx = kx(ki,ths,phs)\n",
    "    ksy = ky(ki,ths,phs)\n",
    "    \n",
    "    kix = kx(ki,thi,phi)\n",
    "    kiy = ky(ki,thi,phi)\n",
    "    \n",
    "    aux = ki**4*np.cos(ths)**2*np.cos(thi)/(2*np.pi)**2*(\n",
    "        np.abs(X1_u(ksx,ksy,kix,kiy,ki,ep0,ep1,ep2,d)[0,0])**2*W(ksx-kix,ksy-kiy,s1,l1)+\\\n",
    "        np.abs(X1_b(ksx,ksy,kix,kiy,ki,ep0,ep1,ep2,d)[0,0])**2*W(ksx-kix,ksy-kiy,s2,l2))\n",
    "    s0s = 10*np.log10(aux)\n",
    "    \n",
    "    ### emi\n",
    "    thi = 0.0001*np.pi/180\n",
    "    \n",
    "    ths_ = (X+1)*np.pi/4\n",
    "    phs_ = (Y+1)*np.pi\n",
    "    \n",
    "    ths_1 = np.reshape(ths_, (1,m**2))\n",
    "    phs_1 = np.reshape(phs_, (1,m**2))\n",
    "    \n",
    "    q = (np.sin(ths_1)*sigma_vvSSA(ki,thi,phi,ths_1,phs_1,ep0,ep1,ep2,d,s1,l1,s2,l2))\n",
    "    aux = Wt*q\n",
    "    I_gauss = (np.pi**2/4)*aux.sum()\n",
    " \n",
    "    emi = 1 - (I_gauss/(4*np.pi))\n",
    " \n",
    "    a = TT.zeros(4)\n",
    "    aa = TT.set_subtensor(a[0], s0s[0])\n",
    "    aaa = TT.set_subtensor(aa[1], s0s[1])\n",
    "    aaaa = TT.set_subtensor(aaa[2], s0s[2])\n",
    "    aaaaa = TT.set_subtensor(aaaa[3], emi)\n",
    " \n",
    "    return aaaaa"
   ]
  },
  {
   "cell_type": "code",
   "execution_count": 4,
   "metadata": {
    "id": "IvqA_RmUh3NU"
   },
   "outputs": [],
   "source": [
    "def toFit(ep1,ep2,d,s1,l1,s2,l2,angulo):\n",
    "    landa = 0.025\n",
    "    k0 = 2*np.pi/landa\n",
    "    phi = np.pi\n",
    "    ### s0\n",
    "    phs = phi + np.pi\n",
    "    thi = angulo  #cambiar segun la zona\n",
    "    thi = thi*np.pi/180 #DU2 T008, T061, T021\n",
    "    ths = thi\n",
    "    k1 = k0*(sin(ths)*cos(phs)-sin(thi)*cos(phi))\n",
    "    k2 = k0*(sin(ths)*sin(phs)-sin(thi)*sin(phi))\n",
    " \n",
    "    aux = 4*np.pi*k0**2*cos(ths)**2*(abs(cuentitas.a1VVF1(k0,thi,phi,ths,phs,ep1,ep2,d))**2*cuentitas.w(s1,l1,k1,k2)+\\\n",
    "            abs(cuentitas.a1VVF2(k0,thi,phi,ths,phs,ep1,ep2,d))**2*cuentitas.w(s2,l2,k1,k2)+\\\n",
    "            2*real(cuentitas.a1VVF1(k0,thi,phi,ths,phs,ep1,ep2,d)*conj(cuentitas.a1VVF2(k0,thi,phi,ths,phs,ep1,ep2,d)))*cuentitas.w_f1f2(s1,l1,s2,l2,k1,k2))\n",
    "    s0s = 10*np.log10(aux)\n",
    "    \n",
    "    ### emi\n",
    "    thi = 0.0001*np.pi/180\n",
    "    \n",
    "    ths_ = (X+1)*np.pi/4\n",
    "    phs_ = (Y+1)*np.pi\n",
    "    \n",
    "    ths_1 = np.reshape(ths_, (1,m**2))\n",
    "    phs_1 = np.reshape(phs_, (1,m**2))\n",
    "    \n",
    "    q = (np.sin(ths_1)*S0VV_Fran_completo(k0,thi,phi,ths_1,phs_1,ep1,ep2,d,s1,l1,s2,l2))\n",
    "    aux = Wt*q\n",
    "    I_gauss = (np.pi**2/4)*aux.sum()\n",
    " \n",
    "    emi = 1 - (I_gauss/(4*np.pi))\n",
    " \n",
    "    a = TT.zeros(4)\n",
    "    aa = TT.set_subtensor(a[0], s0s[0])\n",
    "    aaa = TT.set_subtensor(aa[1], s0s[1])\n",
    "    aaaa = TT.set_subtensor(aaa[2], s0s[2])\n",
    "    aaaaa = TT.set_subtensor(aaaa[3], emi)\n",
    " \n",
    "    return aaaaa"
   ]
  },
  {
   "cell_type": "code",
   "execution_count": 5,
   "metadata": {
    "id": "sdDy0r-6PJtv"
   },
   "outputs": [],
   "source": [
    "def medicion(zona):     #angulo - observacion - nombre\n",
    "    if zona == 'VP1':\n",
    "        out = [np.asarray([20.44, 18.79, 17.36]),np.asarray([-6.13, -5.71, -5.66, 0.927]),'VP1']\n",
    "    elif zona == 'VP2':\n",
    "        out = [np.asarray([18.63, 17.19, 11.25]),np.asarray([-6.65, -6.17, -5.93, 0.937]),'VP2']\n",
    "    elif zona == 'HU0':\n",
    "        out = [np.asarray([24.59, 15.76, 20.69]),np.asarray([-4.07, -3.27, -3.59, 0.917]),'HU0']\n",
    "    elif zona == 'HU1':\n",
    "        out = [np.asarray([22.46, 15.33, 15.57]),np.asarray([-3.64, -3.12, -2.90, 0.921]),'HU1']\n",
    "    elif zona == 'HU2':\n",
    "        out = [np.asarray([18.86, 21.10, 12.98]),np.asarray([-4.08, -9.34, -3.55, 0.914]),'HU2']\n",
    "    elif zona == 'DU1':\n",
    "        out = [np.asarray([17.20, 20.10, 12.98]),np.asarray([-9.02, -9.55, -8.09, 0.943]),'DU1']\n",
    "    elif zona == 'DU2':\n",
    "        out = [np.asarray([23.84, 11.21, 12.64]),np.asarray([-11.96, -6.82, -7.99, 0.954]),'DU2']\n",
    "    elif zona == 'DP1':\n",
    "        out = [np.asarray([19.64, 17.76, 14.06]),np.asarray([-7.79, -8.34, -7.44, 0.947]),'DP1']\n",
    "    elif zona == 'DP2':\n",
    "        out = [np.asarray([24.21, 13.78, 16.76]),np.asarray([-11.25, -8.29, -8.62, 0.937]),'DP2']\n",
    "    else:\n",
    "      print('\\n Inputs: VP1, VP2, HU0, HU1, HU2, DU1, DU2, DP1, DP2 \\n')\n",
    "    \n",
    "    return out"
   ]
  },
  {
   "cell_type": "code",
   "execution_count": 6,
   "metadata": {},
   "outputs": [],
   "source": [
    "def modeloSSA(sector, samples, sigmas):\n",
    " \n",
    "    landa = 0.025\n",
    "    k0 = 2*np.pi/landa\n",
    "    phi = np.pi\n",
    " \n",
    "    ranges = {}\n",
    "    ranges['ep0'] = 1.4, 8\n",
    "    ranges['ep1'] = 1.4, 8\n",
    "    ranges['ep2'] = 1.4, 8\n",
    "    ranges['d'] = 0.001, 0.1\n",
    "    ranges['s1'] = 0.0004, 0.004\n",
    "    ranges['l1'] = 0.005, 0.03\n",
    "    ranges['s2'] = 0.0004, 0.004\n",
    "    ranges['l2'] = 0.005, 0.03\n",
    " \n",
    "    with pm.Model() as model:\n",
    "        ep0 = pm.Uniform('ep0', ranges['ep0'][0], ranges['ep0'][1])\n",
    "        ep1 = pm.Uniform('ep1', ranges['ep1'][0], ranges['ep1'][1])\n",
    "        ep2 = pm.Uniform('ep2', ranges['ep2'][0], ranges['ep2'][1])\n",
    "        d = pm.Uniform('d', ranges['d'][0], ranges['d'][1])\n",
    "        s1 = pm.Uniform('s1', ranges['s1'][0], ranges['s1'][1])\n",
    "        l1 = pm.Uniform('l1', ranges['l1'][0], ranges['l1'][1])\n",
    "        s2 = pm.Uniform('s2', ranges['s2'][0], ranges['s2'][1])\n",
    "        l2 = pm.Uniform('l2', ranges['l2'][0], ranges['l2'][1])\n",
    " \n",
    "    def fSSA(ep0 = ep0, \n",
    "               ep1 = ep1,\n",
    "               ep2 = ep2, \n",
    "               d = d, \n",
    "               s1 = s1, \n",
    "               l1 = l1,\n",
    "               s2 = s2, \n",
    "               l2 = l2):\n",
    "        return toFitSSA(ep0,ep1,ep2,d,s1,l1,s2,l2,sector[0])\n",
    " \n",
    "    with model:\n",
    "        function_pm = pm.Deterministic('s0f', fSSA())\n",
    "        observations = pm.Normal( \"obs\",  mu=real(function_pm), sigma=sigmas, observed=sector[1])\n",
    "        #trace = pm.sample_smc(samples, parallel=False)  #porque no corre las cadenas en parelelo? Es mas rapido False\n",
    "        trace = pm.sample_smc(samples, cores=2, parallel=False) #probar con 4 \n",
    "    \n",
    "    return trace"
   ]
  },
  {
   "cell_type": "code",
   "execution_count": 11,
   "metadata": {
    "id": "43r1KWBMxgdn"
   },
   "outputs": [],
   "source": [
    "def modelo(sector, samples, sigmas):\n",
    " \n",
    "    landa = 0.025\n",
    "    k0 = 2*np.pi/landa\n",
    "    phi = np.pi\n",
    " \n",
    "    ranges = {}\n",
    "    ranges['ep1'] = 1.4, 8\n",
    "    ranges['ep2'] = 1.4, 8\n",
    "    ranges['d'] = 0.001, 0.1\n",
    "    ranges['s1'] = 0.0004, 0.004\n",
    "    ranges['l1'] = 0.005, 0.03\n",
    "    ranges['s2'] = 0.0004, 0.004\n",
    "    ranges['l2'] = 0.005, 0.03\n",
    " \n",
    "    with pm.Model() as model:\n",
    "        ep1 = pm.Uniform('ep1', ranges['ep1'][0], ranges['ep1'][1])\n",
    "        ep2 = pm.Uniform('ep2', ranges['ep2'][0], ranges['ep2'][1])\n",
    "        d = pm.Uniform('d', ranges['d'][0], ranges['d'][1])\n",
    "        s1 = pm.Uniform('s1', ranges['s1'][0], ranges['s1'][1])\n",
    "        l1 = pm.Uniform('l1', ranges['l1'][0], ranges['l1'][1])\n",
    "        s2 = pm.Uniform('s2', ranges['s2'][0], ranges['s2'][1])\n",
    "        l2 = pm.Uniform('l2', ranges['l2'][0], ranges['l2'][1])\n",
    " \n",
    "    def f(ep1 = ep1, \n",
    "               ep2 = ep2, \n",
    "               d = d, \n",
    "               s1 = s1, \n",
    "               l1 = l1,\n",
    "               s2 = s2, \n",
    "               l2 = l2):\n",
    "        return toFit(ep1,ep2,d,s1,l1,s2,l2,sector[0])\n",
    " \n",
    "    with model:\n",
    "        function_pm = pm.Deterministic('s0f', f())\n",
    "        observations = pm.Normal( \"obs\",  mu=real(function_pm), sigma=sigmas, observed=sector[1])\n",
    "        #trace = pm.sample_smc(samples)  #porque no corre las cadenas en parelelo? Es mas rapido False\n",
    "        trace = pm.sample_smc(samples, cores=2, parallel=False) #probar con 4 \n",
    "    \n",
    "    return trace"
   ]
  },
  {
   "cell_type": "code",
   "execution_count": null,
   "metadata": {
    "colab": {
     "base_uri": "https://localhost:8080/"
    },
    "id": "gMdtkUVE7b19",
    "outputId": "5f02e167-0cea-44c3-adae-6a4d6d64e2dc"
   },
   "outputs": [
    {
     "name": "stderr",
     "output_type": "stream",
     "text": [
      "Sample initial stage: ...\n",
      "Stage:   0 Beta: 0.000 Steps:  25 Acce: 1.000\n",
      "Stage:   1 Beta: 0.002 Steps:  25 Acce: 0.226\n",
      "Stage:   2 Beta: 0.008 Steps:  17 Acce: 0.121\n",
      "Stage:   3 Beta: 0.022 Steps:  25 Acce: 0.071\n",
      "Stage:   4 Beta: 0.047 Steps:  25 Acce: 0.044\n",
      "Stage:   5 Beta: 0.067 Steps:  25 Acce: 0.030\n",
      "Stage:   6 Beta: 0.083 Steps:  25 Acce: 0.025\n",
      "Stage:   7 Beta: 0.102 Steps:  25 Acce: 0.027\n"
     ]
    }
   ],
   "source": [
    "zonaMed = 'HU2'\n",
    "muestras = 125000\n",
    "sigmas = np.asarray([0.1, 0.1, 0.1, 0.01])\n",
    "\n",
    "traza = modelo(medicion(zonaMed),muestras,sigmas)\n"
   ]
  },
  {
   "cell_type": "code",
   "execution_count": null,
   "metadata": {},
   "outputs": [],
   "source": [
    "zonaMed = 'HU2'\n",
    "muestras = 50000\n",
    "sigmas = np.asarray([0.1, 0.1, 0.1, 0.01])\n",
    "\n",
    "traza = modelo(medicion(zonaMed),muestras,sigmas)"
   ]
  },
  {
   "cell_type": "code",
   "execution_count": null,
   "metadata": {
    "id": "yWGv8yDID7k4"
   },
   "outputs": [],
   "source": [
    "e1 = traza['ep1']\n",
    "e2 = traza['ep2']\n",
    "d = traza['d']\n",
    "s1 = traza['s1']\n",
    "l1 = traza['l1']\n",
    "s2 = traza['s2']\n",
    "l2 = traza['l2']\n",
    "\n",
    "guardar = [e1,e2,d,s1,l1,s2,l2]\n",
    "#ruta = '/content/drive/MyDrive/Tesis de Javi/DatosSimu/'+zonaMed+'-s1l1-s=50k.txt'\n",
    "#ruta = '/content/drive/MyDrive/Tesis de Javi/DatosSimu/Nuevos/'+zonaMed+'-N='+str(n)+'-S='+str(muestras)+'.txt'\n",
    "f = np.savetxt(zonaMed+'-N='+str(n)+'-S='+str(muestras)+'SSA.txt', guardar, delimiter=';')\n",
    "print('Archivo guardado')\n"
   ]
  },
  {
   "cell_type": "code",
   "execution_count": null,
   "metadata": {},
   "outputs": [],
   "source": [
    "#Ploteo\n",
    "print('Ploteando...')\n",
    "\n",
    "plotear = np.stack((traza['ep1'], traza['ep2'], traza['d'], traza['s1'], traza['l1'], traza['s2'], traza['l2'])).T \n",
    "dfplotear = pd.DataFrame(plotear, columns = ['ep1','ep2','d','s1','l1','s2','l2'])\n",
    "\n",
    "g = sns.PairGrid(dfplotear)\n",
    "g.fig.suptitle(zonaMed, y=1.01, fontsize = 'xx-large')\n",
    "g.map_upper(sns.histplot)\n",
    "g.map_lower(sns.kdeplot, fill=True)\n",
    "g.map_diag(sns.histplot, kde=True, color='.5')\n",
    "#g.savefig('prueba.png')\n",
    "#files.download('prueba.png') #descarga la imagen"
   ]
  },
  {
   "cell_type": "markdown",
   "metadata": {
    "id": "IBruLb72spiK"
   },
   "source": [
    "\n",
    "\n",
    "---\n",
    "# Pruebas a segundo orden\n"
   ]
  },
  {
   "cell_type": "code",
   "execution_count": null,
   "metadata": {
    "id": "6MUstrKCPi9E"
   },
   "outputs": [],
   "source": [
    "thInc = medicion('HU2')[0]\n",
    "thSc = thInc\n",
    "phInc = np.pi\n",
    "phSc = phInc + np.pi\n",
    "\n",
    "landa = 0.025\n",
    "k0 = 2*np.pi/landa\n",
    "\n",
    "l2 = 0.015\n",
    "s2 = 0.00085\n",
    "l1 = 0.015\n",
    "s1 = 0.0014\n",
    "d = 0.009\n",
    "ep2 = 6.25\n",
    "\n",
    "ep1 = np.linspace(1.4, 4.7, 1000)\n",
    "\n",
    "import matplotlib.pyplot as plt\n",
    "\n",
    "\n"
   ]
  },
  {
   "cell_type": "code",
   "execution_count": null,
   "metadata": {
    "colab": {
     "base_uri": "https://localhost:8080/",
     "height": 610
    },
    "id": "LSPT41vOSE-I",
    "outputId": "a8878525-9a64-4a55-bfa2-7f6ab8b68e51"
   },
   "outputs": [],
   "source": [
    "plt.figure(figsize=[10.0,7.5])\n",
    "for i in range(len(thInc)):\n",
    "  plt.plot(ep1, cuentitas.a1VVF1(k0,thInc[i],phInc,thSc[i],phSc,ep1,ep2,d),label='thi: '+str(thInc[i]))\n",
    "\n",
    "\n",
    "plt.legend()\n",
    "plt.xlabel('ep1')\n",
    "plt.ylabel('a1VV')\n",
    "plt.title('HU2')\n",
    "\n"
   ]
  }
 ],
 "metadata": {
  "colab": {
   "collapsed_sections": [
    "IBruLb72spiK"
   ],
   "name": "Funcion.ipynb",
   "provenance": []
  },
  "kernelspec": {
   "display_name": "Python 3",
   "language": "python",
   "name": "python3"
  },
  "language_info": {
   "codemirror_mode": {
    "name": "ipython",
    "version": 3
   },
   "file_extension": ".py",
   "mimetype": "text/x-python",
   "name": "python",
   "nbconvert_exporter": "python",
   "pygments_lexer": "ipython3",
   "version": "3.8.5"
  }
 },
 "nbformat": 4,
 "nbformat_minor": 1
}
