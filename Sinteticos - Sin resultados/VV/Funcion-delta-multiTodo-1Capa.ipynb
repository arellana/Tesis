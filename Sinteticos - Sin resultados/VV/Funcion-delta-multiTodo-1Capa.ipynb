{
 "cells": [
  {
   "cell_type": "code",
   "execution_count": 1,
   "metadata": {},
   "outputs": [
    {
     "name": "stderr",
     "output_type": "stream",
     "text": [
      "WARNING (theano.link.c.cmodule): install mkl with `conda install mkl-service`: No module named 'mkl'\n"
     ]
    }
   ],
   "source": [
    "import sys\n",
    "import cuentitas\n",
    "# from entornomaximo import entornoMaximo as em\n",
    "# from auxiliares import integracionGauss as ig\n",
    "# from auxiliares import medicion\n",
    "# from auxiliares import sigma\n",
    "# from auxiliares import sigmaEmi\n",
    "# from auxiliares import S0VV_completo\n",
    "from auxiliares import generadorFran1Capa  #generador, generador1E, generadorEmisividad, \n",
    "\n",
    "from numpy import pi, sqrt, sin, cos, exp, log10, array, real, conj\n",
    "import numpy as np\n",
    "import matplotlib\n",
    "from matplotlib import pyplot as plt\n",
    "from scipy import interpolate\n",
    "import seaborn as sns\n",
    "import pandas as pd\n",
    "import glob\n",
    "import theano.tensor as TT\n",
    "import random\n",
    "\n",
    "import time\n",
    "\n",
    "import pymc3 as pm\n",
    "\n",
    "sns.set() #seaborn como default\n",
    "\n",
    "# m = 51 #valores que siempre uso\n",
    "# X,Y,Wt = ig(m-1)"
   ]
  },
  {
   "cell_type": "code",
   "execution_count": 2,
   "metadata": {},
   "outputs": [],
   "source": [
    "def toFitFran(ep, s, l, anguloR, landa): #Me devuelve un tensor de nn+mm, con nn valores de angulos s0 y mm emis\n",
    "#     landa = 0.025\n",
    "#     k0 = 2*np.pi/landa\n",
    "#     phi = np.pi\n",
    "    \n",
    "#     ### s0\n",
    "#     phs = phi + np.pi\n",
    "#     thi = anguloR  #cambiar segun la zona\n",
    "#     thi = thi*np.pi/180 #DU2 T008, T061, T021\n",
    "#     ths = thi\n",
    "#     k1 = k0*(sin(ths)*cos(phs)-sin(thi)*cos(phi))\n",
    "#     k2 = k0*(sin(ths)*sin(phs)-sin(thi)*sin(phi))\n",
    " \n",
    "#     aux = 4*np.pi*k0**2*cos(ths)**2*(abs(cuentitas.a1VVF1(k0,thi,phi,ths,phs,ep1,ep2,d))**2*cuentitas.w(s1,l1,k1,k2)+\\\n",
    "#             abs(cuentitas.a1VVF2(k0,thi,phi,ths,phs,ep1,ep2,d))**2*cuentitas.w(s2,l2,k1,k2)+\\\n",
    "#             2*real(cuentitas.a1VVF1(k0,thi,phi,ths,phs,ep1,ep2,d)*conj(cuentitas.a1VVF2(k0,thi,phi,ths,phs,ep1,ep2,d)))*cuentitas.w_f1f2(s1,l1,s2,l2,k1,k2))\n",
    "#     s0s = 10*np.log10(aux)\n",
    "\n",
    "    \n",
    "    \n",
    "#     ### Emisividad\n",
    "#     thiEm = anguloWR*np.pi/180\n",
    "\n",
    "#     ths_ = (X+1)*np.pi/4\n",
    "#     phs_ = (Y+1)*np.pi\n",
    "    \n",
    "#     ths_1 = np.reshape(ths_, (1,m**2))\n",
    "#     phs_1 = np.reshape(phs_, (1,m**2))\n",
    "    \n",
    "#     emi = []\n",
    "#     for tt in thiEm:\n",
    "#         q = (np.sin(ths_1)*S0VV_completo(k0,tt,phi,ths_1,phs_1,ep1,ep2,d,s1,l1,s2,l2))\n",
    "#         aux = Wt*q\n",
    "#         I_gauss = (np.pi**2/4)*aux.sum()\n",
    " \n",
    "#         emi.append(1 - (I_gauss/(4*np.pi)))\n",
    "    \n",
    "#     ###\n",
    "\n",
    "    \n",
    "\n",
    "#     nn = len(anguloR)\n",
    "#     mm = len(anguloWR)\n",
    "#     pp = nn+mm\n",
    "\n",
    "#     a = TT.zeros(pp)\n",
    "#     for i in range(nn):\n",
    "#         a = TT.set_subtensor(a[i], s0s[i])\n",
    "    \n",
    "#     for j in range(mm):\n",
    "#         a = TT.set_subtensor(a[nn+j], emi[j])\n",
    "#     print(incAng)\n",
    "#     print(landa)\n",
    "#     s0s = generadorFran(ep1,ep2,d,s1,l1,s2,l2,incAng,landa)\n",
    "    s0s = generadorFran1Capa(ep, s, l, incAng, landa)\n",
    "    \n",
    "    pp = len(s0s[1])\n",
    "    \n",
    "    a = TT.zeros(pp)\n",
    "#     print(s0s[1][0])\n",
    "    for i in range(pp):\n",
    "        a = TT.set_subtensor(a[i], s0s[1][i])\n",
    "    \n",
    "    \n",
    "    return a\n",
    "\n",
    "\n",
    "#     ###\n",
    "#     nn = len(anguloR)\n",
    "#     mm = len(anguloWR)\n",
    "#     pp = nn+mm\n",
    "\n",
    "#     a = TT.zeros(pp)\n",
    "#     for i in range(nn):\n",
    "#         a = TT.set_subtensor(a[i], s0s[i])"
   ]
  },
  {
   "cell_type": "code",
   "execution_count": 3,
   "metadata": {},
   "outputs": [],
   "source": [
    "# angWR es el angulo sin ruido para simulaciones con emisividad, es indistinto el valor \n",
    "# que tome si uso la f() sin emisividad\n",
    "def modelo(sector, angWR, landa, samples, sigmas): \n",
    " \n",
    "    phi = np.pi\n",
    "    \n",
    "    print(sector[1])\n",
    "    print(sector[1].shape)\n",
    "\n",
    "    \n",
    "    ranges = {}\n",
    "    ranges['ep'] = 1.4, 8\n",
    "#     ranges['ep2'] = 1.4, 8\n",
    "#     ranges['d'] = 0.001, 0.5\n",
    "    ranges['s'] = 0.0001, 0.004\n",
    "    ranges['l'] = 0.001, 0.04\n",
    "\n",
    "    with pm.Model() as model:\n",
    "        ep = pm.Uniform('ep', ranges['ep'][0], ranges['ep'][1])\n",
    "#         ep2 = pm.Uniform('ep2', ranges['ep2'][0], ranges['ep2'][1])\n",
    "#         d = pm.Uniform('d', ranges['d'][0], ranges['d'][1])\n",
    "        s = pm.Uniform('s', ranges['s'][0], ranges['s'][1])\n",
    "        l = pm.Uniform('l', ranges['l'][0], ranges['l'][1])\n",
    "\n",
    "    def f(ep = ep,\n",
    "          s = s,\n",
    "          l = l):\n",
    "#         return toFitEmis(ep1,ep2,d,s1,0.015,s2,0.01,angWR,sector[0])\n",
    "            #toFitFran(ep1,ep2,d,s1,l1,s2,l2,anguloR)\n",
    "#         return toFitFran(ep1,ep2,d,s1,0.015,s2,0.01,sector[0],landa)\n",
    "        return toFitFran(ep, s, l, sector[0], landa)\n",
    "    \n",
    "    with model:\n",
    "        function_pm = pm.Deterministic('s0f', f())\n",
    "        observations = pm.Normal( \"obs\",  mu=real(function_pm), sigma=sigmas, observed=sector[1])\n",
    "        trace = pm.sample_smc(samples, cores=4, parallel=True)  \n",
    "    \n",
    "    return trace"
   ]
  },
  {
   "cell_type": "code",
   "execution_count": null,
   "metadata": {
    "jupyter": {
     "source_hidden": true
    }
   },
   "outputs": [],
   "source": [
    "# 'se' son los valores reales del modelo, 1 s0 para cada angulo y si es generador1E da 1 emisividad en nadir\n",
    "# o si es generadorEmisividad da la misma cantidad de emisividades evaluado en cada thi\n",
    "# 'seR' son los valores de s0 perturbados segun noiseSTD, estos estan en la cantidad de antes pero \n",
    "# multiplicados por 'n', en cuanto a la emisividad aparecen las mismas cantidades que antes\n",
    "\n",
    "# C = 3 #cantidad de angulos iniciales\n",
    "# [ang,se] = generador1E(C) #genera una emisividad global\n",
    "\n",
    "\n",
    "# #[ang,se] = generadorEmisividad(C) #genera una emisividad para cada angulo\n",
    "# val = se[:len(ang)]\n",
    "# emi = se[len(ang):]\n",
    "\n",
    "# val = np.reshape(val,(len(val),1))\n",
    "# n = 1 #cantidad de \"perturbaciones\" de cada angulo\n",
    "\n",
    "# noiseSTD = 0.1\n",
    "# valRui = np.kron(val,np.ones((n,1))) + noiseSTD*np.random.randn(n*len(val),1)\n",
    "\n",
    "# angR = np.reshape(ang,(len(ang),1))\n",
    "# angR = np.kron(angR,np.ones((n,1)))\n",
    "\n",
    "# angR = np.reshape(angR, (len(angR)))\n",
    "# valR = np.reshape(valRui, (len(valRui)))\n",
    "\n",
    "# emi = np.reshape(emi,(len(emi),1))\n",
    "# emiRui = emi + 0.01*np.random.randn(len(emi),1)\n",
    "# emiR = np.reshape(emiRui,(len(emi)))\n",
    "\n",
    "# seR = np.concatenate((valR,emiR))\n",
    "\n",
    "\n"
   ]
  },
  {
   "cell_type": "code",
   "execution_count": 29,
   "metadata": {},
   "outputs": [
    {
     "data": {
      "text/plain": [
       "array([array([15, 20, 25]),\n",
       "       array([-15.41650973, -16.69023837, -18.28056941,   0.99759967])],\n",
       "      dtype=object)"
      ]
     },
     "execution_count": 29,
     "metadata": {},
     "output_type": "execute_result"
    }
   ],
   "source": [
    "# incAng = [15,20,25,35,45]\n",
    "# landa = [0.025]\n",
    "\n",
    "incAng = [15,20,25]\n",
    "# incAng = [20]\n",
    "landa = [0.025]\n",
    "# landa = [0.025,0.05]\n",
    "\n",
    "\n",
    "# incAng = [20]\n",
    "# surfaceModelParam = [1.93,5,0.05,0.0017,0.015,0.003,0.01]\n",
    "# surfaceModelParam = [1.93,\n",
    "#                      5.0,\n",
    "#                      0.3,\n",
    "#                      0.001,\n",
    "#                      0.01,\n",
    "#                      0.002,\n",
    "#                      0.01] #set1\n",
    "# surfaceModelParam = [1.93,5,0.05,0.0017,0.015,0.003,0.01] #set2\n",
    "\n",
    "\n",
    "ep_ = 1.93\n",
    "s_ = 0.001\n",
    "l_ = 0.01 #set1\n",
    "\n",
    "\n",
    "# generadorFran(1.93,\n",
    "#                   5.0,\n",
    "#                      0.3,\n",
    "#                      0.001,\n",
    "#                      0.01,\n",
    "#                      0.002,\n",
    "#                      0.01,\n",
    "#               incAng,\n",
    "#              landa)\n",
    "# ep_ = 4\n",
    "# s_ = 0.001\n",
    "# l_ = 0.01 #set2\n",
    "\n",
    "\n",
    "generadorFran1Capa(ep_, s_, l_, incAng, landa)"
   ]
  },
  {
   "cell_type": "code",
   "execution_count": 30,
   "metadata": {},
   "outputs": [],
   "source": [
    "qw = toFitFran(ep_, s_, l_, incAng, landa)"
   ]
  },
  {
   "cell_type": "code",
   "execution_count": 31,
   "metadata": {},
   "outputs": [
    {
     "data": {
      "text/plain": [
       "array([-15.41650973, -16.69023837, -18.28056941,   0.99759967])"
      ]
     },
     "execution_count": 31,
     "metadata": {},
     "output_type": "execute_result"
    }
   ],
   "source": [
    "qw.eval() #parece que así evalúa el tensor"
   ]
  },
  {
   "cell_type": "code",
   "execution_count": 18,
   "metadata": {},
   "outputs": [],
   "source": [
    "# qq[1].shape"
   ]
  },
  {
   "cell_type": "code",
   "execution_count": 19,
   "metadata": {},
   "outputs": [],
   "source": [
    "# np.asarray(len(incAng)*len(landa)*[0.1] + len(landa)*[0.01])"
   ]
  },
  {
   "cell_type": "code",
   "execution_count": 32,
   "metadata": {},
   "outputs": [
    {
     "name": "stdout",
     "output_type": "stream",
     "text": [
      "[-15.41650973 -16.69023837 -18.28056941   0.99759967]\n",
      "(4,)\n"
     ]
    },
    {
     "name": "stderr",
     "output_type": "stream",
     "text": [
      "Initializing SMC sampler...\n",
      "Sampling 4 chains in 4 jobs\n",
      "WARNING (theano.tensor.opt): Optimization Warning: The Op exp does not provide a C implementation. As well as being potentially slow, this also disables loop fusion.\n",
      "WARNING (theano.tensor.opt): Optimization Warning: The Op exp does not provide a C implementation. As well as being potentially slow, this also disables loop fusion.\n",
      "WARNING (theano.tensor.opt): Optimization Warning: The Op exp does not provide a C implementation. As well as being potentially slow, this also disables loop fusion.\n",
      "WARNING (theano.tensor.opt): Optimization Warning: The Op exp does not provide a C implementation. As well as being potentially slow, this also disables loop fusion.\n",
      "WARNING (theano.tensor.opt): Optimization Warning: The Op real does not provide a C implementation. As well as being potentially slow, this also disables loop fusion.\n",
      "WARNING (theano.tensor.opt): Optimization Warning: The Op real does not provide a C implementation. As well as being potentially slow, this also disables loop fusion.\n",
      "WARNING (theano.tensor.opt): Optimization Warning: The Op real does not provide a C implementation. As well as being potentially slow, this also disables loop fusion.\n",
      "WARNING (theano.tensor.opt): Optimization Warning: The Op real does not provide a C implementation. As well as being potentially slow, this also disables loop fusion.\n",
      "Stage:   0 Beta: 0.000\n",
      "Stage:   1 Beta: 0.000\n",
      "Stage:   2 Beta: 0.002\n",
      "Stage:   3 Beta: 0.006\n",
      "Stage:   4 Beta: 0.018\n",
      "Stage:   5 Beta: 0.056\n",
      "Stage:   6 Beta: 0.185\n",
      "Stage:   7 Beta: 0.623\n",
      "Stage:   8 Beta: 1.000\n"
     ]
    }
   ],
   "source": [
    "# m = 51\n",
    "# X,Y,Wt = ig(m-1)\n",
    "\n",
    "muestras = 20000\n",
    "# Nombre = 'Delta'\n",
    "\n",
    "#------------ error para generador1E() ------------#\n",
    "#sig = np.asarray(len(angR)*[noiseSTD**2] + [0.05])\n",
    "\n",
    "# sig = np.asarray(len(angR)*[0.1] + [0.01]) #original Javi\n",
    "\n",
    "# sig = np.asarray(len(incAng)*[0.1] + [0.01])  #pruebas error\n",
    "\n",
    "# sig = np.asarray(len(incAng)*len(landa)*[0.1] + len(landa)*[0.01]) #the posta post\n",
    "\n",
    "sig = np.asarray(len(incAng)*len(landa)*[0.1] + len(landa)*[0.01])\n",
    "\n",
    "\n",
    "# sig = np.asarray(len(incAng)*[0.1])  #pruebas error\n",
    "\n",
    "traza = modelo(generadorFran1Capa(ep_, s_, l_, incAng, landa),\n",
    "                              np.asarray([0.0001]),\n",
    "                              landa,\n",
    "                              muestras,\n",
    "                              sig)\n",
    " \n",
    "#------------ error para generadorEmisividad()) ------------#\n",
    "# sig = np.asarray(len(angR)*[noiseSTD**2] + len(ang)*[0.001])\n",
    "# traza = modelo([angR,seR],ang,muestras,sig)"
   ]
  },
  {
   "cell_type": "code",
   "execution_count": 33,
   "metadata": {},
   "outputs": [],
   "source": [
    "plotear = np.stack((traza['ep'], traza['s'], traza['l'])).T\n",
    "dfplotear = pd.DataFrame(plotear, columns = ['ep','s','l'])"
   ]
  },
  {
   "cell_type": "code",
   "execution_count": 34,
   "metadata": {},
   "outputs": [],
   "source": [
    "# modelIn = [1.93,5,0.05,0.0017,0.015,0.003,0.01]\n",
    "# modelInReduced = [surfaceModelParam[0], \n",
    "#                   surfaceModelParam[1],\n",
    "#                   surfaceModelParam[2],\n",
    "#                   surfaceModelParam[3],\n",
    "#                   surfaceModelParam[5]]\n",
    "\n",
    "modelInReduced = [ep_, s_, l_]"
   ]
  },
  {
   "cell_type": "code",
   "execution_count": 35,
   "metadata": {},
   "outputs": [
    {
     "data": {
      "image/png": "[encoded data removed]",
      "text/plain": [
       "<Figure size 540x540 with 12 Axes>"
      ]
     },
     "metadata": {},
     "output_type": "display_data"
    }
   ],
   "source": [
    "f = sns.PairGrid(dfplotear)\n",
    "# f.fig.suptitle(Nombre, y=1.01, fontsize = 'large')\n",
    "f.map_upper(sns.histplot)\n",
    "\n",
    "f.map_lower(sns.kdeplot, fill=True)\n",
    "f.map_diag(sns.histplot, kde=True, color='.5')\n",
    "\n",
    "for i in range(3):\n",
    "    for j in range(3):\n",
    "        if i == j:\n",
    "            #ploteo el valor verdadero en las marginales\n",
    "#             f.axes[j,i].axvline(modelInReduced[i], color='r', linestyle='dashed', linewidth=1)\n",
    "            pass\n",
    "        else:\n",
    "            f.axes[j,i].scatter(modelInReduced[i], modelInReduced[j], marker=\"+\", c='r', s=200) #color='k', linestyle='dashed', linewidth=1)\n",
    "            \n",
    "            \n",
    "#         f.axes[j,i].xaxis.set_label_text(xlabels[i])\n",
    "#         f.axes[j,i].yaxis.set_label_text(ylabels[j])\n",
    "#         f.axes[j,i].xaxis.set_label_text(xlabels[i])\n",
    "#         f.axes[j,i].scatter(1,1)\n",
    "\n",
    "\n"
   ]
  },
  {
   "cell_type": "code",
   "execution_count": 36,
   "metadata": {},
   "outputs": [],
   "source": [
    "nombre = \"set1-1Capa-noNoise-3s0+1emi-20000\"\n",
    "f.savefig('Resultados/'+nombre+'.png', dpi=300)"
   ]
  },
  {
   "cell_type": "code",
   "execution_count": 37,
   "metadata": {},
   "outputs": [],
   "source": [
    "e_ = traza['ep']\n",
    "# e2 = traza['ep2']\n",
    "# d = traza['d']\n",
    "s_ = traza['s']\n",
    "l_ = traza['l']\n",
    "\n",
    "guardar = [e_,s_,l_]\n",
    "\n",
    "\n",
    "\n",
    "f_ = np.savetxt('Resultados/'+nombre+'Trazas.txt', guardar, delimiter=';')\n",
    "f2_ = np.savetxt('Resultados/'+nombre+'Trazas-input.txt', np.asarray([np.asarray(incAng),np.asarray(modelInReduced)],dtype=object), fmt='%s', delimiter=';')\n"
   ]
  },
  {
   "cell_type": "code",
   "execution_count": null,
   "metadata": {},
   "outputs": [],
   "source": []
  }
 ],
 "metadata": {
  "kernelspec": {
   "display_name": "Python 3",
   "language": "python",
   "name": "python3"
  },
  "language_info": {
   "codemirror_mode": {
    "name": "ipython",
    "version": 3
   },
   "file_extension": ".py",
   "mimetype": "text/x-python",
   "name": "python",
   "nbconvert_exporter": "python",
   "pygments_lexer": "ipython3",
   "version": "3.7.9"
  }
 },
 "nbformat": 4,
 "nbformat_minor": 4
}
