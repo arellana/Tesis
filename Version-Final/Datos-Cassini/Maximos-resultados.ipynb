{
 "cells": [
  {
   "cell_type": "code",
   "execution_count": 4,
   "metadata": {},
   "outputs": [],
   "source": [
    "import cuentitas\n",
    "# from auxiliares import generadorHH, generadorVV, generadorHHVV, generadorHHVVlambda #generador, generador1E, generadorEmisividad, \n",
    "\n",
    "from numpy import pi, sqrt, sin, cos, exp, log10, array, real, conj\n",
    "import numpy as np\n",
    "import matplotlib\n",
    "from matplotlib import pyplot as plt\n",
    "from scipy import interpolate\n",
    "import seaborn as sns\n",
    "import pandas as pd\n",
    "from scipy.optimize import curve_fit\n",
    "\n",
    "\n",
    "sns.set()"
   ]
  },
  {
   "cell_type": "code",
   "execution_count": 34,
   "metadata": {},
   "outputs": [],
   "source": [
    "zona = \"HU2\"\n",
    "dataa = np.loadtxt(\"Datos2/\"+zona+\"-M=25000e=1.5.txt\", delimiter=';')"
   ]
  },
  {
   "cell_type": "code",
   "execution_count": 35,
   "metadata": {},
   "outputs": [
    {
     "name": "stdout",
     "output_type": "stream",
     "text": [
      "maximos:  [3.946202498513406, 5.454572126221754, 0.39482804885411005, 0.0012736830416441988, 0.0014285641783769777]\n",
      "media:  [4.244500417860633, 5.171413963485686, 0.4458093488130706, 0.0015983977964882695, 0.001961785998459555]\n",
      "HU2std =  [1.4837450472690172, 1.7075677640300377, 0.22128770884402701, 0.0005964938747872406, 0.0009554949777553656]\n"
     ]
    }
   ],
   "source": [
    "def gaus(x,a,x0,sigma):\n",
    "    return a*np.exp(-(x-x0)**2/(2*sigma**2))\n",
    "\n",
    "maxit = 100000\n",
    "\n",
    "maxim = []\n",
    "media = []\n",
    "std = []\n",
    "\n",
    "mediaGauss = []\n",
    "sigma = []\n",
    "\n",
    "\n",
    "for i in range(len(dataa)):\n",
    "#     plt.figure()\n",
    "    n, b= np.histogram(dataa[i], 70)\n",
    "    \n",
    "    y = n\n",
    "    x = b[1:]\n",
    "    \n",
    "    if i != 2:\n",
    "        bin_max = np.where(n == n.max())\n",
    "        maxim.append(b[bin_max][0])\n",
    "#         plt.hist(dataa[i],70)\n",
    "        media.append(np.mean(dataa[i]))\n",
    "        std.append(np.std(dataa[i]))\n",
    "        \n",
    "#         popt,pcov = curve_fit(gaus,x,y,maxfev = maxit)\n",
    "#         mediaGauss.append(popt[1])\n",
    "#         sigma.append(popt[2])\n",
    "        \n",
    "    else:\n",
    "        bin_max = np.where(n == n.max())\n",
    "        bin_min = np.where(n == n.min())\n",
    "        promedio = (b[bin_max][0] + b[bin_min][0])/2\n",
    "        maxim.append(promedio)\n",
    "#         plt.hist(dataa[i],70)\n",
    "        media.append(np.mean(dataa[i]))\n",
    "        std.append(np.std(dataa[i]))\n",
    "        \n",
    "#         popt,pcov = curve_fit(gaus,x,y,maxfev =  maxit)\n",
    "#         mediaGauss.append(popt[1])\n",
    "#         sigma.append(popt[2])\n",
    "        \n",
    "        \n",
    "print('maximos: ', maxim) #Rosa\n",
    "print('media: ', media) #Naranja\n",
    "print(zona+'std = ', std)\n",
    "# print('mediaGauss: ', mediaGauss)\n",
    "# print('sigma: ', sigma)\n",
    "\n",
    "\n",
    "\n",
    "\n",
    "# print(n, np.sum(y))\n",
    "\n",
    "\n",
    "\n",
    "\n",
    "# print('media: ', popt[1], '\\n'+'desviacion: ', popt[2])"
   ]
  },
  {
   "cell_type": "code",
   "execution_count": 33,
   "metadata": {},
   "outputs": [],
   "source": [
    "# plt.figure()\n",
    "# nn,bb,cc = plt.hist(dataa[3],50)\n",
    "# bbinmax = np.where(nn==nn.max())\n",
    "# bb[bbinmax]\n",
    "# # plt.figure()\n",
    "# nn,bb,cc = plt.hist(dataa[4],50)\n",
    "# bbinmax = np.where(nn==nn.max())\n",
    "# bb[bbinmax]\n"
   ]
  },
  {
   "cell_type": "code",
   "execution_count": 63,
   "metadata": {},
   "outputs": [
    {
     "name": "stdout",
     "output_type": "stream",
     "text": [
      "[4.244500417860633, 5.171413963485686, 44.58093488130706, 0.15983977964882695, 0.19617859984595548]\n",
      "[1.4837450472690172, 1.7075677640300377, 22.1287708844027, 0.05964938747872406, 0.09554949777553656]\n"
     ]
    }
   ],
   "source": [
    "DU1 = [4.460942929893051, 4.998587479636676, 0.3722036283890052, 0.0011145338788783356, 0.0018622658109177046]\n",
    "DU1std =  [1.8082617275535322, 1.6459004780458915, 0.23348718986293532, 0.0005869260794261624, 0.0010467350109578499]\n",
    "\n",
    "DU2 = [4.240539430660959, 4.840113295032625, 0.39205404215825634, 0.001064895626121771, 0.0018418713264376847]\n",
    "DU2std =  [1.7077598142519186, 1.6352339659568476, 0.2302483318758969, 0.0005331629356273417, 0.0010363726091196632]\n",
    "\n",
    "\n",
    "VP1 = [4.759537867268812, 5.369128131921033, 0.3846248492329239, 0.001610669606509411, 0.0019914611374299658]\n",
    "VP1std =  [1.6602516872855693, 1.64192610272976, 0.23087683215517704, 0.0006049344631841797, 0.0009349295008561099]\n",
    "\n",
    "VP2 = [4.8408165776964065, 5.297258481621991, 0.38227447656969804, 0.0011956619273709864, 0.001732551135400718]\n",
    "VP2std =  [1.7772465621430156, 1.6254446276377632, 0.23008612819805024, 0.0004478245683212758, 0.000966839520524098]\n",
    "\n",
    "\n",
    "DP1 = [4.5367200951901, 5.096194292906705, 0.36988471566543324, 0.0012030186174809868, 0.0018981485068301131]\n",
    "DP1std =  [1.7832887241379882, 1.6512099662258215, 0.22843056679431417, 0.0005915647291484054, 0.001036792292181468]\n",
    "\n",
    "DP2 = [4.479601878057778, 5.081687139832543, 0.3846826170838034, 0.0011207508883199946, 0.0019140525227799073]\n",
    "DP2std =  [1.728770633073694, 1.614745883157023, 0.23331504438202488, 0.0006282837055634068, 0.0010700130284174774]\n",
    "\n",
    "\n",
    "HU0 = [6.625416375117789, 4.039556351730994, 0.3198898805392775, 0.001375316082817201, 0.0016326263929583513]\n",
    "HU0std =  [1.194516963085372, 1.8442042899892521, 0.2113025250209859, 0.00045386897329829787, 0.0008034737859642976]\n",
    "\n",
    "\n",
    "HU1 = [6.148253733648571, 4.9159221602165, 0.39816579438577615, 0.001427927867609028, 0.001816218171983823]\n",
    "HU1std =  [1.5106965077287735, 1.9504091506990127, 0.21780367942178797, 0.00041267316533797043, 0.0009039283942569885]\n",
    "\n",
    "\n",
    "HU2 = [4.244500417860633, 5.171413963485686, 0.4458093488130706, 0.0015983977964882695, 0.001961785998459555]\n",
    "HU2std =  [1.4837450472690172, 1.7075677640300377, 0.22128770884402701, 0.0005964938747872406, 0.0009554949777553656]\n",
    "\n",
    "\n",
    "aux = HU2\n",
    "auxstd = HU2std\n",
    "\n",
    "aaa = np.dot(100,aux[2:])\n",
    "aux[2:] = aaa\n",
    "print(aux)\n",
    " \n",
    "bbb = np.dot(100, auxstd[2:])\n",
    "auxstd[2:] = bbb \n",
    "print(auxstd)\n",
    "\n",
    "\n"
   ]
  },
  {
   "cell_type": "code",
   "execution_count": 44,
   "metadata": {},
   "outputs": [
    {
     "name": "stdout",
     "output_type": "stream",
     "text": [
      "[1, 2, 3, 5, 6]\n"
     ]
    }
   ],
   "source": [
    "a23  = [1,2,3,4]\n",
    "a23[3:4] = [5,6] \n",
    "print(a23)"
   ]
  }
 ],
 "metadata": {
  "kernelspec": {
   "display_name": "Python 3",
   "language": "python",
   "name": "python3"
  },
  "language_info": {
   "codemirror_mode": {
    "name": "ipython",
    "version": 3
   },
   "file_extension": ".py",
   "mimetype": "text/x-python",
   "name": "python",
   "nbconvert_exporter": "python",
   "pygments_lexer": "ipython3",
   "version": "3.7.9"
  }
 },
 "nbformat": 4,
 "nbformat_minor": 4
}
