{
 "cells": [
  {
   "cell_type": "code",
   "execution_count": 1,
   "metadata": {},
   "outputs": [
    {
     "name": "stderr",
     "output_type": "stream",
     "text": [
      "WARNING (theano.link.c.cmodule): install mkl with `conda install mkl-service`: No module named 'mkl'\n"
     ]
    }
   ],
   "source": [
    "import sys\n",
    "import cuentitas\n",
    "from auxiliares import generadorHH, generadorFran  #generador, generador1E, generadorEmisividad, \n",
    "\n",
    "from numpy import pi, sqrt, sin, cos, exp, log10, array, real, conj\n",
    "import numpy as np\n",
    "import matplotlib\n",
    "from matplotlib import pyplot as plt\n",
    "from scipy import interpolate\n",
    "import seaborn as sns\n",
    "import pandas as pd\n",
    "import glob\n",
    "import theano.tensor as TT\n",
    "import random\n",
    "\n",
    "import time\n",
    "\n",
    "import pymc3 as pm\n",
    "\n",
    "sns.set() #seaborn como default"
   ]
  },
  {
   "cell_type": "code",
   "execution_count": null,
   "metadata": {},
   "outputs": [],
   "source": [
    "# A partir de generadorFran, que devuelve \"len(anguloR)\" valores de s0 y una emi en nadir, para los parametros\n",
    "# elejidos, los convierto a forma tensorial y los devuelte en subtensores\n",
    "\n",
    "def toFitHH(ep1,ep2,d,s1,l1,s2,l2,anguloR,landa): #Me devuelve un tensor de nn+mm, con nn valores de angulos s0 y mm emis\n",
    "    if (ep1 != ep2):\n",
    "        s0s = generadorHH(ep1,ep2,d,s1,l1,s2,l2,incAng,landa)\n",
    "    \n",
    "        pp = len(s0s[1])\n",
    "    \n",
    "        a = TT.zeros(pp)\n",
    "        for i in range(pp):\n",
    "            a = TT.set_subtensor(a[i], s0s[1][i])\n",
    "    \n",
    "    return a"
   ]
  },
  {
   "cell_type": "code",
   "execution_count": null,
   "metadata": {},
   "outputs": [],
   "source": [
    "# Resuelve mediante inferencia bayesiana utilizando algoritmo sequential monte carlo sampler (SMC) los parametros ep1,ep2,etc\n",
    "# que mejor resuelven los valores de entrada. \n",
    "# La devolucion es una matriz con la distribución posterior. Este este contiene para cada columna los juegos de parametros que \n",
    "# explican los valores de entrada a partir de un cierto error sigma definido\n",
    "\n",
    "# sector: Valores de entrada de s0 y emi de la zona estudiada, definida por \"auxiliares.py/medicion()\" o por una funcion que \n",
    "#         devuelta en primer lugar un array de n angulos en donde se mide y en segundo lugar un array con las mediciones. \n",
    "# angWR: es el angulo sin ruido para simulaciones con emisividad, es indistinto el valor \n",
    "#         que tome si uso la f() sin emisividad\n",
    "# landa: frecuencia de operacion\n",
    "# samples: cantidad de muestras del espacio de parametros\n",
    "# sigmas: array error de [deltaSo, deltaEmi]\n",
    "\n",
    "\n",
    "def modelo(sector, angWR, landa, samples, sigmas): \n",
    "    \n",
    "    phi = np.pi\n",
    "    \n",
    "    print('Valores de entrada: ', sector[1])\n",
    "    print('Cantidad de datos: ', sector[1].shape)\n",
    "\n",
    "    #Rango en donde estudiamos los parametros    \n",
    "    ranges = {}\n",
    "    ranges['ep1'] = 1.40001, 8 #corro ligeramente el punto inicial ep1 para que no diverja con ep2 en canal HH\n",
    "    ranges['ep2'] = 1.4, 8\n",
    "    ranges['d'] = 0.001, 0.5\n",
    "    ranges['s1'] = 0.0004, 0.004\n",
    "    ranges['s2'] = 0.0004, 0.004\n",
    "\n",
    "    #distribucion a priori de cada uno\n",
    "    with pm.Model() as model:\n",
    "        ep1 = pm.Uniform('ep1', ranges['ep1'][0], ranges['ep1'][1])\n",
    "        ep2 = pm.Uniform('ep2', ranges['ep2'][0], ranges['ep2'][1])\n",
    "        d = pm.Uniform('d', ranges['d'][0], ranges['d'][1])\n",
    "        s1 = pm.Uniform('s1', ranges['s1'][0], ranges['s1'][1])\n",
    "        s2 = pm.Uniform('s2', ranges['s2'][0], ranges['s2'][1])\n",
    "\n",
    "    #Funcion de costo a minimizar\n",
    "    def f(ep1 = ep1,\n",
    "          ep2 = ep2,\n",
    "          d = d,\n",
    "          s1 = s1,\n",
    "          s2 = s2):\n",
    "\n",
    "        return toFitHH(ep1,ep2,d,s1,0.015,s2,0.01,sector[0],landa)\n",
    "    \n",
    "    with model:\n",
    "        function_pm = pm.Deterministic('s0f', f()) #funcion de costo\n",
    "        observations = pm.Normal( \"obs\",  mu=real(function_pm), sigma=sigmas, observed=sector[1]) #observaciones\n",
    "        trace = pm.sample_smc(samples, cores=4, parallel=True) #metodo de exploracion de parametros\n",
    "    \n",
    "    return trace"
   ]
  },
  {
   "cell_type": "code",
   "execution_count": null,
   "metadata": {},
   "outputs": [],
   "source": [
    "# Angulos estudiados en datos sinteticos. Este array debe contar con al menos 1 valor.\n",
    "# landa: longitudes de onda de operacion. Este array debe contar con al menos 1 valor.\n",
    "\n",
    "# incAng = [15,20,25]\n",
    "# landa = [0.025,0.05]\n",
    "\n",
    "incAng = [20,60]\n",
    "landa = [0.025]\n",
    "\n",
    "\n",
    "# set1\n",
    "generadorHH(1.93,5.0,0.3,0.001,0.015,0.002,0.01,incAng,landa)"
   ]
  },
  {
   "cell_type": "code",
   "execution_count": null,
   "metadata": {},
   "outputs": [],
   "source": [
    "# Prueba de la forma tensorial para ajustar\n",
    "qw = toFitHH(1.93,\n",
    "            5.0,\n",
    "            0.3,\n",
    "            0.001,\n",
    "            0.015,\n",
    "            0.002,\n",
    "            0.01,\n",
    "            incAng,\n",
    "            landa)\n",
    "qw.eval()"
   ]
  },
  {
   "cell_type": "code",
   "execution_count": null,
   "metadata": {},
   "outputs": [],
   "source": [
    "# Datos de entrada para la inferencia\n",
    "\n",
    "# set1\n",
    "surfaceModelParam = [1.93,\n",
    "                    5.0,\n",
    "                    0.3,\n",
    "                    0.001,\n",
    "                    0.002]\n",
    "\n",
    "entradaModelo = generadorHH(surfaceModelParam[0], \n",
    "                surfaceModelParam[1],\n",
    "                surfaceModelParam[2],\n",
    "                surfaceModelParam[3],\n",
    "                0.015,\n",
    "                surfaceModelParam[4],                \n",
    "                0.01,\n",
    "                incAng,\n",
    "                landa)\n",
    "entradaModelo"
   ]
  },
  {
   "cell_type": "code",
   "execution_count": null,
   "metadata": {},
   "outputs": [],
   "source": [
    "# m = 51\n",
    "# X,Y,Wt = ig(m-1)\n",
    "\n",
    "t0 = time.time()\n",
    "\n",
    "\n",
    "muestras = 2\n",
    "Nombre = 'Delta'\n",
    "\n",
    "sig = np.asarray(len(incAng)*len(landa)*[0.1] + len(landa)*[0.01])\n",
    "\n",
    "# sig = np.asarray(len(incAng)*[0.1])  #pruebas error\n",
    "\n",
    "#set3\n",
    "traza = modelo(generadorHH(1.93,\n",
    "                              5.0,\n",
    "                              0.3,\n",
    "                              0.001,\n",
    "                              0.015,\n",
    "                              0.002,\n",
    "                              0.01,\n",
    "                              incAng,\n",
    "                              landa),\n",
    "                              np.asarray([10]),\n",
    "                              landa,\n",
    "                              muestras,\n",
    "                              sig)\n",
    " \n",
    "#------------ error para generadorEmisividad()) ------------#\n",
    "# sig = np.asarray(len(angR)*[noiseSTD**2] + len(ang)*[0.001])\n",
    "# traza = modelo([angR,seR],ang,muestras,sig)"
   ]
  },
  {
   "cell_type": "code",
   "execution_count": null,
   "metadata": {},
   "outputs": [],
   "source": [
    "plotear = np.stack((traza['ep1'],traza['ep2'],traza['d'], traza['s1'], traza['s2'])).T\n",
    "dfplotear = pd.DataFrame(plotear, columns = ['ep1','ep2','d','s1','s2'])"
   ]
  },
  {
   "cell_type": "code",
   "execution_count": null,
   "metadata": {},
   "outputs": [],
   "source": [
    "modelInReduced = [1.93,\n",
    "                  5.0,\n",
    "                  0.3,\n",
    "                  0.001,\n",
    "                  0.002]"
   ]
  },
  {
   "cell_type": "code",
   "execution_count": null,
   "metadata": {},
   "outputs": [],
   "source": [
    "f = sns.PairGrid(dfplotear)\n",
    "# f.fig.suptitle(Nombre, y=1.01, fontsize = 'large')\n",
    "f.map_upper(sns.histplot)\n",
    "\n",
    "f.map_lower(sns.kdeplot, fill=True)\n",
    "f.map_diag(sns.histplot, kde=True, color='.5')\n",
    "\n",
    "for i in range(5):\n",
    "    for j in range(5):\n",
    "        if i == j:\n",
    "            #ploteo el valor verdadero en las marginales\n",
    "#             f.axes[j,i].axvline(modelInReduced[i], color='r', linestyle='dashed', linewidth=1)\n",
    "            pass\n",
    "        else:\n",
    "            f.axes[j,i].scatter(modelInReduced[i], modelInReduced[j], marker=\"+\", c='r', s=200) #color='k', linestyle='dashed', linewidth=1)\n",
    "            \n",
    "            \n",
    "#         f.axes[j,i].xaxis.set_label_text(xlabels[i])\n",
    "#         f.axes[j,i].yaxis.set_label_text(ylabels[j])\n",
    "#         f.axes[j,i].xaxis.set_label_text(xlabels[i])\n",
    "#         f.axes[j,i].scatter(1,1)\n",
    "\n"
   ]
  },
  {
   "cell_type": "code",
   "execution_count": null,
   "metadata": {},
   "outputs": [],
   "source": [
    "t1 = time.time()\n",
    "print(\"Tiempo de ejecución:\", t1-t0, 'seg','(', (t1-t0)/3600,  'hs )')\n",
    "\n",
    "nombre = \"set1-2Capas-noNoise-2s0+1emi-20000-1lambda-6020-3\"\n",
    "# f.savefig('Resultados_HH/'+nombre+'.png', dpi=300)"
   ]
  },
  {
   "cell_type": "code",
   "execution_count": null,
   "metadata": {},
   "outputs": [],
   "source": [
    "e1 = traza['ep1']\n",
    "e2 = traza['ep2']\n",
    "d = traza['d']\n",
    "s1 = traza['s1']\n",
    "s2 = traza['s2']\n",
    "\n",
    "guardar = [e1,e2,d,s1,s2]\n",
    "\n",
    "# f_ = np.savetxt('Resultados_HH/'+nombre+'Trazas.txt', guardar, delimiter=';')\n",
    "# f2_ = np.savetxt('Resultados_HH/'+nombre+'Trazas-input.txt', np.asarray([np.asarray(incAng),np.asarray(modelInReduced)],dtype=object), fmt='%s', delimiter=';')"
   ]
  },
  {
   "cell_type": "code",
   "execution_count": null,
   "metadata": {},
   "outputs": [],
   "source": []
  }
 ],
 "metadata": {
  "kernelspec": {
   "display_name": "Python 3",
   "language": "python",
   "name": "python3"
  },
  "language_info": {
   "codemirror_mode": {
    "name": "ipython",
    "version": 3
   },
   "file_extension": ".py",
   "mimetype": "text/x-python",
   "name": "python",
   "nbconvert_exporter": "python",
   "pygments_lexer": "ipython3",
   "version": "3.7.9"
  }
 },
 "nbformat": 4,
 "nbformat_minor": 4
}
