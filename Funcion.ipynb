{
  "nbformat": 4,
  "nbformat_minor": 0,
  "metadata": {
    "colab": {
      "name": "Funcion.ipynb",
      "provenance": [],
      "collapsed_sections": [
        "IBruLb72spiK"
      ],
      "mount_file_id": "1c0Czux_CfTQEUGwCTRKNBGNZXCWrrCUS",
      "authorship_tag": "ABX9TyMe5XAAmKhSNOuOCY7ZteDh",
      "include_colab_link": true
    },
    "kernelspec": {
      "name": "python3",
      "display_name": "Python 3"
    },
    "language_info": {
      "name": "python"
    }
  },
  "cells": [
    {
      "cell_type": "markdown",
      "metadata": {
        "id": "view-in-github",
        "colab_type": "text"
      },
      "source": [
        "<a href=\"https://colab.research.google.com/github/arellana/Tesis/blob/main/Funcion.ipynb\" target=\"_parent\"><img src=\"https://colab.research.google.com/assets/colab-badge.svg\" alt=\"Open In Colab\"/></a>"
      ]
    },
    {
      "cell_type": "code",
      "metadata": {
        "id": "VmFTquNor7JW"
      },
      "source": [
        "#!pip3 install arviz\n",
        "#!pip3 install pymc3==3.11.2 # esta versión sí tiene el método sample_smc"
      ],
      "execution_count": null,
      "outputs": []
    },
    {
      "cell_type": "code",
      "metadata": {
        "id": "TPl8zUROiwcm"
      },
      "source": [
        "import sys\n",
        "sys.path.insert(0,'/content/drive/MyDrive/Colab Notebooks') #cambiar ruta segun donde este el archivo 'cuentitas.py' - es probable que deba dar permiso a drive desde el panel izquierdo\n",
        "import cuentitas\n",
        "\n",
        "from numpy import pi, sqrt, sin, cos, exp, log10, array, real, conj\n",
        "import numpy as np\n",
        "import matplotlib\n",
        "from matplotlib import pyplot as plt\n",
        "from scipy import interpolate\n",
        "import seaborn as sns\n",
        "import pandas as pd\n",
        "import glob\n",
        "import theano.tensor as TT\n",
        "\n",
        "import pymc3 as pm\n",
        "from google.colab import files\n",
        "sns.set() #seaborn como default"
      ],
      "execution_count": 1,
      "outputs": []
    },
    {
      "cell_type": "code",
      "metadata": {
        "id": "tcrwFuaRy7h6"
      },
      "source": [
        "def S0VV_Fran_completo(k0,thi,phi,th,phs,ep1,ep2,d,s1,l1,s2,l2):\n",
        "    \n",
        "    k1 = k0*(sin(th)*cos(phs)-sin(thi)*cos(phi))\n",
        "    k2 = k0*(sin(th)*sin(phs)-sin(thi)*sin(phi))\n",
        "    \n",
        "    return 4*np.pi*k0**2*cos(th)**2*(abs(cuentitas.a1VVF1(k0,thi,phi,th,phs,ep1,ep2,d))**2*cuentitas.w(s1,l1,k1,k2)+\\\n",
        "            abs(cuentitas.a1VVF2(k0,thi,phi,th,phs,ep1,ep2,d))**2*cuentitas.w(s2,l2,k1,k2)+\\\n",
        "            2*real(cuentitas.a1VVF1(k0,thi,phi,th,phs,ep1,ep2,d)*conj(cuentitas.a1VVF2(k0,thi,phi,th,phs,ep1,ep2,d)))*cuentitas.w_f1f2(s1,l1,s2,l2,k1,k2))"
      ],
      "execution_count": 2,
      "outputs": []
    },
    {
      "cell_type": "code",
      "metadata": {
        "id": "3cAgYqPTh7xN"
      },
      "source": [
        "### paqueton\n",
        "# Elegimos el orden\n",
        "n = 50\n",
        "\n",
        "# Precalculamos nodos y pesos (única vez para todas las integrales\n",
        "beta = np.zeros(n,dtype=float)\n",
        "for k in range(1,n+1):\n",
        "    beta[k-1] = 0.5/sqrt(1-(2*(k))**(-2))\n",
        "\n",
        "m = n+1\n",
        "T_low = np.zeros((m,m))\n",
        "T_up = np.zeros((m,m))\n",
        "T = np.zeros((m,m))\n",
        "    \n",
        "# defino T_low\n",
        "for i in range(0,m):\n",
        "    for j in range(0,m):\n",
        "        if i==j+1:\n",
        "            T_low[i,j]=beta[i-1]\n",
        "\n",
        "    # defino T_up\n",
        "for i in range(0,m):\n",
        "    for j in range(0,m):\n",
        "        if j==i+1:\n",
        "            T_up[i,j]=beta[i]\n",
        "\n",
        "\n",
        "T = T_low + T_up        \n",
        "d_,V = np.linalg.eig(T)\n",
        "D = np.zeros((m,m))\n",
        "\n",
        "for i in range(0,m):\n",
        "    for j in range(0,m):\n",
        "        if i==j:\n",
        "            D[i,j]=d_[i]\n",
        "\n",
        "W = (2*V[0,:]**2)\n",
        "Wt = np.kron(W,W)\n",
        "\n",
        "X,Y = np.meshgrid(d_,d_)\n",
        "### fin paqueton"
      ],
      "execution_count": 37,
      "outputs": []
    },
    {
      "cell_type": "code",
      "metadata": {
        "id": "IvqA_RmUh3NU"
      },
      "source": [
        "def toFit(ep1,ep2,d,s1,l1,s2,l2,angulo):\n",
        "    landa = 0.025\n",
        "    k0 = 2*np.pi/landa\n",
        "    phi = np.pi\n",
        "    ### s0\n",
        "    phs = phi + np.pi\n",
        "    thi = angulo  #cambiar segun la zona\n",
        "    thi = thi*np.pi/180 #DU2 T008, T061, T021\n",
        "    ths = thi\n",
        "    k1 = k0*(sin(ths)*cos(phs)-sin(thi)*cos(phi))\n",
        "    k2 = k0*(sin(ths)*sin(phs)-sin(thi)*sin(phi))\n",
        "\n",
        "    aux = 4*np.pi*k0**2*cos(ths)**2*(abs(cuentitas.a1VVF1(k0,thi,phi,ths,phs,ep1,ep2,d))**2*cuentitas.w(s1,l1,k1,k2)+\\\n",
        "            abs(cuentitas.a1VVF2(k0,thi,phi,ths,phs,ep1,ep2,d))**2*cuentitas.w(s2,l2,k1,k2)+\\\n",
        "            2*real(cuentitas.a1VVF1(k0,thi,phi,ths,phs,ep1,ep2,d)*conj(cuentitas.a1VVF2(k0,thi,phi,ths,phs,ep1,ep2,d)))*cuentitas.w_f1f2(s1,l1,s2,l2,k1,k2))\n",
        "    s0s = 10*np.log10(aux)\n",
        "        \n",
        "    ### emi\n",
        "    thi = 0.0001*np.pi/180\n",
        "    \n",
        "    ths_ = (X+1)*np.pi/4\n",
        "    phs_ = (Y+1)*np.pi\n",
        "    \n",
        "    ths_1 = np.reshape(ths_, (1,m**2))\n",
        "    phs_1 = np.reshape(phs_, (1,m**2))\n",
        "    \n",
        "    q = (np.sin(ths_1)*S0VV_Fran_completo(k0,thi,phi,ths_1,phs_1,ep1,ep2,d,s1,l1,s2,l2))\n",
        "    aux = Wt*q\n",
        "    I_gauss = (np.pi**2/4)*aux.sum()\n",
        "\n",
        "    emi = 1 - (I_gauss/(4*np.pi))\n",
        "\n",
        "    a = TT.zeros(4)\n",
        "    aa = TT.set_subtensor(a[0], s0s[0])\n",
        "    aaa = TT.set_subtensor(aa[1], s0s[1])\n",
        "    aaaa = TT.set_subtensor(aaa[2], s0s[2])\n",
        "    aaaaa = TT.set_subtensor(aaaa[3], emi)\n",
        " \n",
        "    return aaaaa"
      ],
      "execution_count": 38,
      "outputs": []
    },
    {
      "cell_type": "code",
      "metadata": {
        "id": "sdDy0r-6PJtv"
      },
      "source": [
        "def medicion(zona):     #angulo - observacion - nombre\n",
        "    if zona == 'VP1':\n",
        "        out = [np.asarray([20.44, 18.79, 17.36]),np.asarray([-6.13, -5.71, -5.66, 0.927]),'VP1']\n",
        "    elif zona == 'VP2':\n",
        "        out = [np.asarray([18.63, 17.19, 11.25]),np.asarray([-6.65, -6.17, -5.93, 0.937]),'VP2']\n",
        "    elif zona == 'HU0':\n",
        "        out = [np.asarray([24.59, 15.76, 20.69]),np.asarray([-4.07, -3.27, -3.59, 0.917]),'HU0']\n",
        "    elif zona == 'HU1':\n",
        "        out = [np.asarray([22.46, 15.33, 15.57]),np.asarray([-3.64, -3.12, -2.90, 0.921]),'HU1']\n",
        "    elif zona == 'HU2':\n",
        "        out = [np.asarray([18.86, 21.10, 12.98]),np.asarray([-4.08, -9.34, -3.55, 0.914]),'HU2']\n",
        "    elif zona == 'DU1':\n",
        "        out = [np.asarray([17.20, 20.10, 12.98]),np.asarray([-9.02, -9.55, -8.09, 0.943]),'DU1']\n",
        "    elif zona == 'DU2':\n",
        "        out = [np.asarray([23.84, 11.21, 12.64]),np.asarray([-11.96, -6.82, -7.99, 0.954]),'DU2']\n",
        "    elif zona == 'DP1':\n",
        "        out = [np.asarray([19.64, 17.76, 14.06]),np.asarray([-7.79, -8.34, -7.44, 0.947]),'DP1']\n",
        "    elif zona == 'DP2':\n",
        "        out = [np.asarray([24.21, 13.78, 16.76]),np.asarray([-11.25, -8.29, -8.62, 0.937]),'DP2']\n",
        "    else:\n",
        "      print('\\n Inputs: VP1, VP2, HU0, HU1, HU2, DU1, DU2, DP1, DP2 \\n')\n",
        "    \n",
        "    return out"
      ],
      "execution_count": 39,
      "outputs": []
    },
    {
      "cell_type": "code",
      "metadata": {
        "id": "43r1KWBMxgdn"
      },
      "source": [
        "def modelo(sector, samples, sigmas):\n",
        "\n",
        "    landa = 0.025\n",
        "    k0 = 2*np.pi/landa\n",
        "    phi = np.pi\n",
        "\n",
        "    ranges = {}\n",
        "    ranges['ep1'] = 1.4, 8\n",
        "    #ranges['ep1'] = 1.4, 3 #para HU2, primera iteracion\n",
        "    ranges['ep2'] = 1.4, 8\n",
        "    ranges['d'] = 0.001, 0.1\n",
        "    ranges['s1'] = 0.0004, 0.004\n",
        "    ranges['l1'] = 0.005, 0.03\n",
        "    ranges['s2'] = 0.0004, 0.004\n",
        "    ranges['l2'] = 0.005, 0.03\n",
        "\n",
        "    with pm.Model() as model:\n",
        "        ep1 = pm.Uniform('ep1', ranges['ep1'][0], ranges['ep1'][1])\n",
        "        ep2 = pm.Uniform('ep2', ranges['ep2'][0], ranges['ep2'][1])\n",
        "        d = pm.Uniform('d', ranges['d'][0], ranges['d'][1])\n",
        "        s1 = pm.Uniform('s1', ranges['s1'][0], ranges['s1'][1])\n",
        "        l1 = pm.Uniform('l1', ranges['l1'][0], ranges['l1'][1])\n",
        "        s2 = pm.Uniform('s2', ranges['s2'][0], ranges['s2'][1])\n",
        "        l2 = pm.Uniform('l2', ranges['l2'][0], ranges['l2'][1])\n",
        "\n",
        "    def f(ep1 = ep1, \n",
        "               ep2 = ep2, \n",
        "               d = d, \n",
        "               s1 = s1, \n",
        "               l1 = l1,\n",
        "               s2 = s2, \n",
        "               l2 = l2):\n",
        "        return toFit(ep1,ep2,d,s1,l1,s2,l2,sector[0])\n",
        "\n",
        "    with model:\n",
        "        function_pm = pm.Deterministic('s0f', f())\n",
        "        observations = pm.Normal( \"obs\",  mu=real(function_pm), sigma=sigmas, observed=sector[1])\n",
        "        #trace = pm.sample_smc(samples, parallel=False)  #porque no corre las cadenas en parelelo? Es mas rapido False\n",
        "        trace = pm.sample_smc(samples, cores=2, parallel=True) #probar con 4 \n",
        "    \n",
        "    return trace\n",
        "\n",
        "    \n"
      ],
      "execution_count": 41,
      "outputs": []
    },
    {
      "cell_type": "code",
      "metadata": {
        "id": "gMdtkUVE7b19"
      },
      "source": [
        "zonaMed = 'HU2'\n",
        "muestras = 10000\n",
        "sigmas = np.asarray([0.5, 0.5, 0.5, 0.05])\n",
        "\n",
        "traza = modelo(medicion(zonaMed),muestras,sigmas)\n",
        "\n",
        "#Ploteo\n",
        "print('Ploteando...')\n",
        "\n",
        "plotear = np.stack((traza['ep1'], traza['ep2'], traza['d'], traza['s1'], traza['l1'], traza['s2'], traza['l2'])).T \n",
        "dfplotear = pd.DataFrame(plotear, columns = ['ep1','ep2','d','s1','l1','s2','l2'])\n",
        "\n",
        "g = sns.PairGrid(dfplotear)\n",
        "g.fig.suptitle(sector[2], y=1.01, fontsize = 'xx-large')\n",
        "g.map_upper(sns.histplot)\n",
        "g.map_lower(sns.kdeplot, fill=True)\n",
        "g.map_diag(sns.histplot, kde=True, color='.5')\n",
        "#g.savefig('prueba.png')\n",
        "#files.download('prueba.png') #descarga la imagen"
      ],
      "execution_count": null,
      "outputs": []
    },
    {
      "cell_type": "code",
      "metadata": {
        "id": "yWGv8yDID7k4"
      },
      "source": [
        "e1 = traza['ep1']\n",
        "e2 = traza['ep2']\n",
        "d = traza['d']\n",
        "s1 = traza['s1']\n",
        "l1 = traza['l1']\n",
        "s2 = traza['s2']\n",
        "l2 = traza['l2']\n",
        "\n",
        "guardar = [e1,e2,d,s1,l1,s2,l2]\n",
        "ruta = '/content/drive/MyDrive/Tesis de Javi/DatosSimu/'+zonaMed+'-N='+str(n)+'-S='+str(muestras)+'.txt'\n",
        "f = np.savetxt(ruta, guardar, delimiter=';')\n"
      ],
      "execution_count": 43,
      "outputs": []
    },
    {
      "cell_type": "code",
      "metadata": {
        "colab": {
          "base_uri": "https://localhost:8080/"
        },
        "id": "5OjD8ts1G8hT",
        "outputId": "901c118d-441a-482f-f2e3-b161ab71566d"
      },
      "source": [
        "p = np.loadtxt(ruta,delimiter=';')\n",
        "print(p[5])"
      ],
      "execution_count": 45,
      "outputs": [
        {
          "output_type": "stream",
          "text": [
            "[0.00339956 0.00062313 0.00046194 ... 0.00078587 0.00199372 0.00276842]\n"
          ],
          "name": "stdout"
        }
      ]
    },
    {
      "cell_type": "code",
      "metadata": {
        "id": "_HXbLhx9G-PZ"
      },
      "source": [
        "#primera idea, manual \n",
        "\n",
        "#esta mal esto, leer el cuaderno de como se me ocurrio solucionarlo. \n",
        "\n",
        "def entornoMaximo(traza, parametro, delta):\n",
        "    e1 = traza['ep1']\n",
        "    e2 = traza['ep2']\n",
        "    d = traza['d']\n",
        "    s1 = traza['s1']\n",
        "    l1 = traza['l1']\n",
        "    s2 = traza['s2']\n",
        "    l2 = traza['l2']\n",
        "\n",
        "    max = np.amax(traza[parametro])\n",
        "    print(max)\n",
        "    #index = np.where(max == traza(parametro))\n",
        "\n",
        "    deltaI = np.where(traza[parametro] == (max-delta))\n",
        "    deltaR = np.where(traza[parametro] == (max+delta))\n",
        "\n",
        "    e1 = e1[deltaI:deltaR]\n",
        "    e2 = e2[deltaI:deltaR]\n",
        "    d = d[deltaI:deltaR]\n",
        "    s1 = s1[deltaI:deltaR]\n",
        "    l1 = l1[deltaI:deltaR]\n",
        "    s2 = s2[deltaI:deltaR]\n",
        "    l2 = l2[deltaI:deltaR]\n",
        "\n",
        "    return [e1,e2,d,s2,l1,s2,l2]"
      ],
      "execution_count": null,
      "outputs": []
    },
    {
      "cell_type": "code",
      "metadata": {
        "colab": {
          "base_uri": "https://localhost:8080/"
        },
        "id": "G0nFvtlELYJa",
        "outputId": "f0e7a704-8127-4c65-dc00-5676e7e0aa6f"
      },
      "source": [
        "traza['ep1']"
      ],
      "execution_count": null,
      "outputs": [
        {
          "output_type": "execute_result",
          "data": {
            "text/plain": [
              "array([1.87334909, 2.13656266, 1.92875563, ..., 1.57692496, 1.6724977 ,\n",
              "       2.67849148])"
            ]
          },
          "metadata": {
            "tags": []
          },
          "execution_count": 26
        }
      ]
    },
    {
      "cell_type": "code",
      "metadata": {
        "id": "UzFW1earLCDN"
      },
      "source": [
        "cortado = entornoMaximo(traza,'ep1',0.03)"
      ],
      "execution_count": null,
      "outputs": []
    },
    {
      "cell_type": "code",
      "metadata": {
        "id": "DWIomskbBSkM"
      },
      "source": [
        "trace = traza\n",
        "plotear = np.stack((trace['ep1'], trace['ep2'])).T \n",
        "dfplotear = pd.DataFrame(plotear, columns = ['ep1','ep2'])\n",
        "\n",
        "g = sns.PairGrid(dfplotear)\n",
        "g.fig.suptitle('HU2', y=1.01, fontsize = 'xx-large')\n",
        "g.map_upper(sns.histplot)\n",
        "g.map_lower(sns.kdeplot, fill=True)\n",
        "g.map_diag(sns.histplot, kde=True, color='.5')\n",
        "#g.savefig('prueba.png')"
      ],
      "execution_count": null,
      "outputs": []
    },
    {
      "cell_type": "markdown",
      "metadata": {
        "id": "IBruLb72spiK"
      },
      "source": [
        "\n",
        "\n",
        "---\n",
        "# Pruebas a segundo orden\n"
      ]
    },
    {
      "cell_type": "code",
      "metadata": {
        "id": "6MUstrKCPi9E"
      },
      "source": [
        "thInc = medicion('HU2')[0]\n",
        "thSc = thInc\n",
        "phInc = np.pi\n",
        "phSc = phInc + np.pi\n",
        "\n",
        "landa = 0.025\n",
        "k0 = 2*np.pi/landa\n",
        "\n",
        "l2 = 0.015\n",
        "s2 = 0.00085\n",
        "l1 = 0.015\n",
        "s1 = 0.0014\n",
        "d = 0.009\n",
        "ep2 = 6.25\n",
        "\n",
        "ep1 = np.linspace(1.4, 4.7, 1000)\n",
        "\n",
        "import matplotlib.pyplot as plt\n",
        "\n",
        "\n"
      ],
      "execution_count": null,
      "outputs": []
    },
    {
      "cell_type": "code",
      "metadata": {
        "colab": {
          "base_uri": "https://localhost:8080/",
          "height": 610
        },
        "id": "LSPT41vOSE-I",
        "outputId": "a8878525-9a64-4a55-bfa2-7f6ab8b68e51"
      },
      "source": [
        "plt.figure(figsize=[10.0,7.5])\n",
        "for i in range(len(thInc)):\n",
        "  plt.plot(ep1, cuentitas.a1VVF1(k0,thInc[i],phInc,thSc[i],phSc,ep1,ep2,d),label='thi: '+str(thInc[i]))\n",
        "\n",
        "\n",
        "plt.legend()\n",
        "plt.xlabel('ep1')\n",
        "plt.ylabel('a1VV')\n",
        "plt.title('HU2')\n",
        "\n"
      ],
      "execution_count": null,
      "outputs": [
        {
          "output_type": "stream",
          "text": [
            "/usr/local/lib/python3.7/dist-packages/numpy/core/_asarray.py:83: ComplexWarning: Casting complex values to real discards the imaginary part\n",
            "  return array(a, dtype, copy=False, order=order)\n",
            "/usr/local/lib/python3.7/dist-packages/numpy/core/_asarray.py:83: ComplexWarning: Casting complex values to real discards the imaginary part\n",
            "  return array(a, dtype, copy=False, order=order)\n",
            "/usr/local/lib/python3.7/dist-packages/numpy/core/_asarray.py:83: ComplexWarning: Casting complex values to real discards the imaginary part\n",
            "  return array(a, dtype, copy=False, order=order)\n"
          ],
          "name": "stderr"
        },
        {
          "output_type": "execute_result",
          "data": {
            "text/plain": [
              "Text(0.5, 1.0, 'HU2')"
            ]
          },
          "metadata": {
            "tags": []
          },
          "execution_count": 14
        },
        {
          "output_type": "display_data",
          "data": {
            "image/png": "[encoded data removed]",
            "text/plain": [
              "<Figure size 720x540 with 1 Axes>"
            ]
          },
          "metadata": {
            "tags": [],
            "needs_background": "light"
          }
        }
      ]
    }
  ]
}