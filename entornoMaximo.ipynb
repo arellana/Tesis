{
  "nbformat": 4,
  "nbformat_minor": 0,
  "metadata": {
    "colab": {
      "name": "entornoMaximo.ipynb",
      "provenance": [],
      "collapsed_sections": [],
      "mount_file_id": "15ImSKlGUGmJmXsC0hVD13lZYw5hsu54v",
      "authorship_tag": "ABX9TyPBundu/b7HIUlJAcj/YbLb",
      "include_colab_link": true
    },
    "kernelspec": {
      "name": "python3",
      "display_name": "Python 3"
    },
    "language_info": {
      "name": "python"
    }
  },
  "cells": [
    {
      "cell_type": "markdown",
      "metadata": {
        "id": "view-in-github",
        "colab_type": "text"
      },
      "source": [
        "<a href=\"https://colab.research.google.com/github/arellana/Tesis/blob/main/entornoMaximo.ipynb\" target=\"_parent\"><img src=\"https://colab.research.google.com/assets/colab-badge.svg\" alt=\"Open In Colab\"/></a>"
      ]
    },
    {
      "cell_type": "code",
      "metadata": {
        "id": "cbvX450mARK5",
        "colab": {
          "base_uri": "https://localhost:8080/"
        },
        "outputId": "6058f560-8cdf-476f-ac96-c5264628233c"
      },
      "source": [
        "#from google.colab import drive\n",
        "#drive.mount('/content/drive')\n",
        "#import sys\n",
        "#sys.path.insert(0,'/content/drive/MyDrive/Colab Notebooks')\n",
        "#from google.colab import files\n",
        "#import numpy as np\n",
        "#import seaborn as sns\n",
        "#import matplotlib.pyplot as plt"
      ],
      "execution_count": 1,
      "outputs": [
        {
          "output_type": "stream",
          "text": [
            "Drive already mounted at /content/drive; to attempt to forcibly remount, call drive.mount(\"/content/drive\", force_remount=True).\n"
          ],
          "name": "stdout"
        }
      ]
    },
    {
      "cell_type": "code",
      "metadata": {
        "id": "7lsfdB0WAb5w"
      },
      "source": [
        "##### prueba #####\n",
        "\n",
        "#ruta = '/content/drive/MyDrive/Tesis de Javi/DatosSimu/'+'HU2'+'-N='+str(50)+'-S='+str(10000)+'.txt'\n",
        "#dat = np.loadtxt(ruta, delimiter=';')"
      ],
      "execution_count": 2,
      "outputs": []
    },
    {
      "cell_type": "code",
      "metadata": {
        "id": "PpjqHMp0r8Jo"
      },
      "source": [
        "import numpy as np\n",
        "import seaborn as sns\n",
        "import matplotlib.pyplot as plt"
      ],
      "execution_count": 23,
      "outputs": []
    },
    {
      "cell_type": "code",
      "metadata": {
        "id": "Ownaf6t5oEr5"
      },
      "source": [
        "def entornoMaximo(dat, parametro, delta, bin): \n",
        "    \n",
        "    b = plt.hist(dat[parametro],bins=bin)\n",
        "    plt.title('Histograma a recortar')\n",
        "\n",
        "    y = np.asarray(b[0])\n",
        "    x = np.asarray(b[1])\n",
        "\n",
        "    ind = np.where(y==y.max())\n",
        "    maximo = x[ind]\n",
        "\n",
        "    print('Valor mas probable: '+str(x[ind][0]))\n",
        "    print('Conteo maximo: ', y.max())\n",
        "\n",
        "    #parametro es el indice del parametro sobre el que quiero acotar (ej: l1 = 4)\n",
        "    pMax = np.where(dat[parametro] <= (maximo+delta))[0]#, l1 >= (maximo-delta))\n",
        "\n",
        "    aux = np.zeros((7,len(pMax)))\n",
        "\n",
        "    for k in range(7):\n",
        "        for i in range(len(pMax)):\n",
        "            aux[k][i] = dat[k][pMax[i]]\n",
        "\n",
        "    #sns.histplot(aux[4],bins=100)\n",
        "\n",
        "    pMin = np.where(aux[4] >= (maximo-delta))[0]\n",
        "\n",
        "    cor = np.zeros((7,len(pMin)))\n",
        "    \n",
        "    for l in range(7):\n",
        "        for j in range(len(pMin)):\n",
        "            cor[l][j] = aux[l][pMin[j]]\n",
        "\n",
        "    #plt.hist(e1Cor,bins=37)\n",
        "    #sns.histplot(cor[4])\n",
        "    return cor"
      ],
      "execution_count": 21,
      "outputs": []
    },
    {
      "cell_type": "code",
      "metadata": {
        "colab": {
          "base_uri": "https://localhost:8080/",
          "height": 315
        },
        "id": "sATdu03qo6O7",
        "outputId": "7f49c02f-4f96-4d44-87d6-352e22882866"
      },
      "source": [
        "#cortados = entornoMaximo(dat,4,0.0025,134)"
      ],
      "execution_count": 22,
      "outputs": [
        {
          "output_type": "stream",
          "text": [
            "Valor mas probable: 0.015588847086537842\n",
            "Conteo maximo:  1506.0\n"
          ],
          "name": "stdout"
        },
        {
          "output_type": "display_data",
          "data": {
            "image/png": "[encoded data removed]",
            "text/plain": [
              "<Figure size 432x288 with 1 Axes>"
            ]
          },
          "metadata": {
            "tags": [],
            "needs_background": "light"
          }
        }
      ]
    },
    {
      "cell_type": "code",
      "metadata": {
        "colab": {
          "base_uri": "https://localhost:8080/",
          "height": 282
        },
        "id": "NIZCtw_3pL6E",
        "outputId": "5049bbd1-0652-4509-b7d8-12fd7484e81e"
      },
      "source": [
        "#sns.histplot(cortados[4],bins=37)"
      ],
      "execution_count": 7,
      "outputs": [
        {
          "output_type": "execute_result",
          "data": {
            "text/plain": [
              "<matplotlib.axes._subplots.AxesSubplot at 0x7f6ad69936d0>"
            ]
          },
          "metadata": {
            "tags": []
          },
          "execution_count": 7
        },
        {
          "output_type": "display_data",
          "data": {
            "image/png": "[encoded data removed]",
            "text/plain": [
              "<Figure size 432x288 with 1 Axes>"
            ]
          },
          "metadata": {
            "tags": [],
            "needs_background": "light"
          }
        }
      ]
    }
  ]
}