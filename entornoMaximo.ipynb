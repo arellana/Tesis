{
  "nbformat": 4,
  "nbformat_minor": 0,
  "metadata": {
    "colab": {
      "name": "entornoMaximo.ipynb",
      "provenance": [],
      "collapsed_sections": [],
      "mount_file_id": "15ImSKlGUGmJmXsC0hVD13lZYw5hsu54v",
      "authorship_tag": "ABX9TyP3TTXnwzmRUgxidv9Misq0",
      "include_colab_link": true
    },
    "kernelspec": {
      "name": "python3",
      "display_name": "Python 3"
    },
    "language_info": {
      "name": "python"
    }
  },
  "cells": [
    {
      "cell_type": "markdown",
      "metadata": {
        "id": "view-in-github",
        "colab_type": "text"
      },
      "source": [
        "<a href=\"https://colab.research.google.com/github/arellana/Tesis/blob/main/entornoMaximo.ipynb\" target=\"_parent\"><img src=\"https://colab.research.google.com/assets/colab-badge.svg\" alt=\"Open In Colab\"/></a>"
      ]
    },
    {
      "cell_type": "code",
      "metadata": {
        "id": "cbvX450mARK5",
        "colab": {
          "base_uri": "https://localhost:8080/"
        },
        "outputId": "6058f560-8cdf-476f-ac96-c5264628233c"
      },
      "source": [
        "#from google.colab import drive\n",
        "#drive.mount('/content/drive')\n",
        "#import sys\n",
        "#sys.path.insert(0,'/content/drive/MyDrive/Colab Notebooks')\n",
        "#from google.colab import files\n",
        "#import numpy as np\n",
        "#import seaborn as sns\n",
        "#import matplotlib.pyplot as plt"
      ],
      "execution_count": 1,
      "outputs": [
        {
          "output_type": "stream",
          "text": [
            "Drive already mounted at /content/drive; to attempt to forcibly remount, call drive.mount(\"/content/drive\", force_remount=True).\n"
          ],
          "name": "stdout"
        }
      ]
    },
    {
      "cell_type": "code",
      "metadata": {
        "id": "PpjqHMp0r8Jo"
      },
      "source": [
        "import numpy as np\n",
        "import seaborn as sns\n",
        "import matplotlib.pyplot as plt"
      ],
      "execution_count": 1,
      "outputs": []
    },
    {
      "cell_type": "code",
      "metadata": {
        "id": "7lsfdB0WAb5w"
      },
      "source": [
        "##### prueba #####\n",
        "\n",
        "ruta = '/content/drive/MyDrive/Tesis de Javi/DatosSimu/'+'DU1'+'-N='+str(50)+'-S='+str(10000)+'.txt'\n",
        "dat = np.loadtxt(ruta, delimiter=';')"
      ],
      "execution_count": 2,
      "outputs": []
    },
    {
      "cell_type": "code",
      "metadata": {
        "id": "Ownaf6t5oEr5"
      },
      "source": [
        "def entornoMaximo(dat, parametro, delta, bin): \n",
        "    \n",
        "    b = plt.hist(dat[parametro],bins=bin)\n",
        "    plt.title('Histograma a recortar')\n",
        "\n",
        "    y = np.asarray(b[0])\n",
        "    x = np.asarray(b[1])\n",
        "\n",
        "    ind = np.where(y==y.max())\n",
        "    maximo = x[ind]\n",
        "\n",
        "    print('Valor mas probable: '+str(x[ind][0]))\n",
        "    print('Conteo maximo: ', y.max())\n",
        "\n",
        "    #parametro es el indice del parametro sobre el que quiero acotar (ej: l1 = 4)\n",
        "    pMax = np.where(dat[parametro] <= (maximo+delta))[0]#, l1 >= (maximo-delta))\n",
        "\n",
        "    aux = np.zeros((7,len(pMax)))\n",
        "\n",
        "    for k in range(7):\n",
        "        for i in range(len(pMax)):\n",
        "            aux[k][i] = dat[k][pMax[i]]\n",
        "\n",
        "    #sns.histplot(aux[4],bins=100)\n",
        "\n",
        "    pMin = np.where(aux[parametro] >= (maximo-delta))[0]\n",
        "\n",
        "    cor = np.zeros((7,len(pMin)))\n",
        "    \n",
        "    for l in range(7):\n",
        "        for j in range(len(pMin)):\n",
        "            cor[l][j] = aux[l][pMin[j]]\n",
        "\n",
        "    plt.hist(cor[parametro],bins=30,label='recortado')\n",
        "    plt.legend()\n",
        "    #sns.histplot(cor[4])\n",
        "\n",
        "    return cor"
      ],
      "execution_count": 3,
      "outputs": []
    },
    {
      "cell_type": "code",
      "metadata": {
        "colab": {
          "base_uri": "https://localhost:8080/",
          "height": 315
        },
        "id": "sATdu03qo6O7",
        "outputId": "fde05cb0-8d63-4133-ed77-0095a6ca5b12"
      },
      "source": [
        "cortados = entornoMaximo(dat,3,0.0002,134)"
      ],
      "execution_count": 4,
      "outputs": [
        {
          "output_type": "stream",
          "text": [
            "Valor mas probable: 0.0009903793863115366\n",
            "Conteo maximo:  608.0\n"
          ],
          "name": "stdout"
        },
        {
          "output_type": "display_data",
          "data": {
            "image/png": "[encoded data removed]",
            "text/plain": [
              "<Figure size 432x288 with 1 Axes>"
            ]
          },
          "metadata": {
            "tags": [],
            "needs_background": "light"
          }
        }
      ]
    },
    {
      "cell_type": "code",
      "metadata": {
        "id": "NIZCtw_3pL6E"
      },
      "source": [
        "#plt.hist(dat[4],bins=150)\n",
        "sns.histplot(cortados[4],bins=60,color='b')"
      ],
      "execution_count": null,
      "outputs": []
    },
    {
      "cell_type": "code",
      "metadata": {
        "id": "gs6LnWue-6Ir"
      },
      "source": [
        ""
      ],
      "execution_count": null,
      "outputs": []
    }
  ]
}